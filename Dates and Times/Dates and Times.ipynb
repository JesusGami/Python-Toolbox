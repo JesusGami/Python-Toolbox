{
 "cells": [
  {
   "cell_type": "markdown",
   "metadata": {},
   "source": [
    "## Dates"
   ]
  },
  {
   "cell_type": "markdown",
   "metadata": {},
   "source": [
    "**Weekdays in Python:**\n",
    "\n",
    "0 = Monday\n",
    "\n",
    "1 = Tuesday\n",
    "\n",
    "2 = Wednesday\n",
    "\n",
    "...\n",
    "\n",
    "6 = Sunday"
   ]
  },
  {
   "cell_type": "code",
   "execution_count": 1,
   "metadata": {},
   "outputs": [],
   "source": [
    "from datetime import date\n",
    "import datetime"
   ]
  },
  {
   "cell_type": "code",
   "execution_count": 2,
   "metadata": {},
   "outputs": [
    {
     "data": {
      "text/plain": [
       "0"
      ]
     },
     "execution_count": 2,
     "metadata": {},
     "output_type": "execute_result"
    }
   ],
   "source": [
    "hurricane_andrew = date(1992, 8, 24)\n",
    "hurricane_andrew.weekday()"
   ]
  },
  {
   "cell_type": "code",
   "execution_count": 3,
   "metadata": {},
   "outputs": [],
   "source": [
    "florida_hurricane_dates = [datetime.date(1950, 8, 31),\n",
    " datetime.date(1950, 9, 5),\n",
    " datetime.date(1950, 10, 18),\n",
    " datetime.date(1950, 10, 21),\n",
    " datetime.date(1951, 5, 18),\n",
    " datetime.date(1951, 10, 2),\n",
    " datetime.date(1952, 2, 3),\n",
    " datetime.date(1952, 8, 30),\n",
    " datetime.date(1953, 6, 6),\n",
    " datetime.date(1953, 8, 29),\n",
    " datetime.date(1953, 9, 20),\n",
    " datetime.date(1953, 9, 26),\n",
    " datetime.date(1953, 10, 9),\n",
    " datetime.date(1955, 8, 21),\n",
    " datetime.date(1956, 7, 6),\n",
    " datetime.date(1956, 9, 24),\n",
    " datetime.date(1956, 10, 15),\n",
    " datetime.date(1957, 6, 8),\n",
    " datetime.date(1957, 9, 8),\n",
    " datetime.date(1958, 9, 4),\n",
    " datetime.date(1959, 6, 18),\n",
    " datetime.date(1959, 10, 8),\n",
    " datetime.date(1959, 10, 18),\n",
    " datetime.date(1960, 7, 29),\n",
    " datetime.date(1960, 9, 10),\n",
    " datetime.date(1960, 9, 15),\n",
    " datetime.date(1960, 9, 23),\n",
    " datetime.date(1961, 9, 11),\n",
    " datetime.date(1961, 10, 29),\n",
    " datetime.date(1962, 8, 26),\n",
    " datetime.date(1963, 10, 21),\n",
    " datetime.date(1964, 6, 6),\n",
    " datetime.date(1964, 8, 27),\n",
    " datetime.date(1964, 9, 10),\n",
    " datetime.date(1964, 9, 20),\n",
    " datetime.date(1964, 10, 5),\n",
    " datetime.date(1964, 10, 14),\n",
    " datetime.date(1965, 6, 15),\n",
    " datetime.date(1965, 9, 8),\n",
    " datetime.date(1965, 9, 30),\n",
    " datetime.date(1966, 6, 9),\n",
    " datetime.date(1966, 6, 30),\n",
    " datetime.date(1966, 7, 24),\n",
    " datetime.date(1966, 10, 4),\n",
    " datetime.date(1968, 6, 4),\n",
    " datetime.date(1968, 6, 18),\n",
    " datetime.date(1968, 7, 5),\n",
    " datetime.date(1968, 8, 10),\n",
    " datetime.date(1968, 8, 28),\n",
    " datetime.date(1968, 9, 26),\n",
    " datetime.date(1968, 10, 19),\n",
    " datetime.date(1969, 6, 9),\n",
    " datetime.date(1969, 8, 18),\n",
    " datetime.date(1969, 8, 29),\n",
    " datetime.date(1969, 9, 7),\n",
    " datetime.date(1969, 9, 21),\n",
    " datetime.date(1969, 10, 1),\n",
    " datetime.date(1969, 10, 2),\n",
    " datetime.date(1969, 10, 21),\n",
    " datetime.date(1970, 5, 25),\n",
    " datetime.date(1970, 7, 22),\n",
    " datetime.date(1970, 8, 6),\n",
    " datetime.date(1970, 9, 13),\n",
    " datetime.date(1970, 9, 27),\n",
    " datetime.date(1971, 8, 10),\n",
    " datetime.date(1971, 8, 13),\n",
    " datetime.date(1971, 8, 29),\n",
    " datetime.date(1971, 9, 1),\n",
    " datetime.date(1971, 9, 16),\n",
    " datetime.date(1971, 10, 13),\n",
    " datetime.date(1972, 5, 28),\n",
    " datetime.date(1972, 6, 19),\n",
    " datetime.date(1972, 9, 5),\n",
    " datetime.date(1973, 6, 7),\n",
    " datetime.date(1973, 6, 23),\n",
    " datetime.date(1973, 9, 3),\n",
    " datetime.date(1973, 9, 25),\n",
    " datetime.date(1974, 6, 25),\n",
    " datetime.date(1974, 9, 8),\n",
    " datetime.date(1974, 9, 27),\n",
    " datetime.date(1974, 10, 7),\n",
    " datetime.date(1975, 6, 27),\n",
    " datetime.date(1975, 7, 29),\n",
    " datetime.date(1975, 9, 23),\n",
    " datetime.date(1975, 10, 1),\n",
    " datetime.date(1975, 10, 16),\n",
    " datetime.date(1976, 5, 23),\n",
    " datetime.date(1976, 6, 11),\n",
    " datetime.date(1976, 8, 19),\n",
    " datetime.date(1976, 9, 13),\n",
    " datetime.date(1977, 8, 27),\n",
    " datetime.date(1977, 9, 5),\n",
    " datetime.date(1978, 6, 22),\n",
    " datetime.date(1979, 7, 11),\n",
    " datetime.date(1979, 9, 3),\n",
    " datetime.date(1979, 9, 12),\n",
    " datetime.date(1979, 9, 24),\n",
    " datetime.date(1980, 8, 7),\n",
    " datetime.date(1980, 11, 18),\n",
    " datetime.date(1981, 8, 17),\n",
    " datetime.date(1982, 6, 18),\n",
    " datetime.date(1982, 9, 11),\n",
    " datetime.date(1983, 8, 28),\n",
    " datetime.date(1984, 9, 9),\n",
    " datetime.date(1984, 9, 27),\n",
    " datetime.date(1984, 10, 26),\n",
    " datetime.date(1985, 7, 23),\n",
    " datetime.date(1985, 8, 15),\n",
    " datetime.date(1985, 10, 10),\n",
    " datetime.date(1985, 11, 21),\n",
    " datetime.date(1986, 6, 26),\n",
    " datetime.date(1986, 8, 13),\n",
    " datetime.date(1987, 8, 14),\n",
    " datetime.date(1987, 9, 7),\n",
    " datetime.date(1987, 10, 12),\n",
    " datetime.date(1987, 11, 4),\n",
    " datetime.date(1988, 5, 30),\n",
    " datetime.date(1988, 8, 4),\n",
    " datetime.date(1988, 8, 13),\n",
    " datetime.date(1988, 8, 23),\n",
    " datetime.date(1988, 9, 4),\n",
    " datetime.date(1988, 9, 10),\n",
    " datetime.date(1988, 9, 13),\n",
    " datetime.date(1988, 11, 23),\n",
    " datetime.date(1989, 9, 22),\n",
    " datetime.date(1990, 5, 25),\n",
    " datetime.date(1990, 10, 9),\n",
    " datetime.date(1990, 10, 12),\n",
    " datetime.date(1991, 6, 30),\n",
    " datetime.date(1991, 10, 16),\n",
    " datetime.date(1992, 6, 25),\n",
    " datetime.date(1992, 8, 24),\n",
    " datetime.date(1992, 9, 29),\n",
    " datetime.date(1993, 6, 1),\n",
    " datetime.date(1994, 7, 3),\n",
    " datetime.date(1994, 8, 15),\n",
    " datetime.date(1994, 10, 2),\n",
    " datetime.date(1994, 11, 16),\n",
    " datetime.date(1995, 6, 5),\n",
    " datetime.date(1995, 7, 27),\n",
    " datetime.date(1995, 8, 2),\n",
    " datetime.date(1995, 8, 23),\n",
    " datetime.date(1995, 10, 4),\n",
    " datetime.date(1996, 7, 11),\n",
    " datetime.date(1996, 9, 2),\n",
    " datetime.date(1996, 10, 8),\n",
    " datetime.date(1996, 10, 18),\n",
    " datetime.date(1997, 7, 19),\n",
    " datetime.date(1998, 9, 3),\n",
    " datetime.date(1998, 9, 20),\n",
    " datetime.date(1998, 9, 25),\n",
    " datetime.date(1998, 11, 5),\n",
    " datetime.date(1999, 8, 29),\n",
    " datetime.date(1999, 9, 15),\n",
    " datetime.date(1999, 9, 21),\n",
    " datetime.date(1999, 10, 15),\n",
    " datetime.date(2000, 8, 23),\n",
    " datetime.date(2000, 9, 9),\n",
    " datetime.date(2000, 9, 18),\n",
    " datetime.date(2000, 9, 22),\n",
    " datetime.date(2000, 10, 3),\n",
    " datetime.date(2001, 6, 12),\n",
    " datetime.date(2001, 8, 6),\n",
    " datetime.date(2001, 9, 14),\n",
    " datetime.date(2001, 11, 5),\n",
    " datetime.date(2002, 7, 13),\n",
    " datetime.date(2002, 8, 4),\n",
    " datetime.date(2002, 9, 4),\n",
    " datetime.date(2002, 9, 14),\n",
    " datetime.date(2002, 9, 26),\n",
    " datetime.date(2002, 10, 3),\n",
    " datetime.date(2002, 10, 11),\n",
    " datetime.date(2003, 4, 20),\n",
    " datetime.date(2003, 6, 30),\n",
    " datetime.date(2003, 7, 25),\n",
    " datetime.date(2003, 8, 14),\n",
    " datetime.date(2003, 8, 30),\n",
    " datetime.date(2003, 9, 6),\n",
    " datetime.date(2003, 9, 13),\n",
    " datetime.date(2004, 8, 12),\n",
    " datetime.date(2004, 8, 13),\n",
    " datetime.date(2004, 9, 5),\n",
    " datetime.date(2004, 9, 13),\n",
    " datetime.date(2004, 9, 16),\n",
    " datetime.date(2004, 10, 10),\n",
    " datetime.date(2005, 6, 11),\n",
    " datetime.date(2005, 7, 6),\n",
    " datetime.date(2005, 7, 10),\n",
    " datetime.date(2005, 8, 25),\n",
    " datetime.date(2005, 9, 12),\n",
    " datetime.date(2005, 9, 20),\n",
    " datetime.date(2005, 10, 5),\n",
    " datetime.date(2005, 10, 24),\n",
    " datetime.date(2006, 6, 13),\n",
    " datetime.date(2006, 8, 30),\n",
    " datetime.date(2007, 5, 9),\n",
    " datetime.date(2007, 6, 2),\n",
    " datetime.date(2007, 8, 23),\n",
    " datetime.date(2007, 9, 8),\n",
    " datetime.date(2007, 9, 13),\n",
    " datetime.date(2007, 9, 22),\n",
    " datetime.date(2007, 10, 31),\n",
    " datetime.date(2007, 12, 13),\n",
    " datetime.date(2008, 7, 16),\n",
    " datetime.date(2008, 7, 22),\n",
    " datetime.date(2008, 8, 18),\n",
    " datetime.date(2008, 8, 31),\n",
    " datetime.date(2008, 9, 2),\n",
    " datetime.date(2009, 8, 16),\n",
    " datetime.date(2009, 8, 21),\n",
    " datetime.date(2009, 11, 9),\n",
    " datetime.date(2010, 6, 30),\n",
    " datetime.date(2010, 7, 23),\n",
    " datetime.date(2010, 8, 10),\n",
    " datetime.date(2010, 8, 31),\n",
    " datetime.date(2010, 9, 29),\n",
    " datetime.date(2011, 7, 18),\n",
    " datetime.date(2011, 8, 25),\n",
    " datetime.date(2011, 9, 3),\n",
    " datetime.date(2011, 10, 28),\n",
    " datetime.date(2011, 11, 9),\n",
    " datetime.date(2012, 5, 28),\n",
    " datetime.date(2012, 6, 23),\n",
    " datetime.date(2012, 8, 25),\n",
    " datetime.date(2012, 10, 25),\n",
    " datetime.date(2015, 8, 30),\n",
    " datetime.date(2015, 10, 1),\n",
    " datetime.date(2016, 6, 6),\n",
    " datetime.date(2016, 9, 1),\n",
    " datetime.date(2016, 9, 14),\n",
    " datetime.date(2016, 10, 7),\n",
    " datetime.date(2017, 6, 21),\n",
    " datetime.date(2017, 7, 31),\n",
    " datetime.date(2017, 9, 10),\n",
    " datetime.date(2017, 10, 29)]"
   ]
  },
  {
   "cell_type": "code",
   "execution_count": 5,
   "metadata": {},
   "outputs": [
    {
     "data": {
      "text/plain": [
       "10"
      ]
     },
     "execution_count": 5,
     "metadata": {},
     "output_type": "execute_result"
    }
   ],
   "source": [
    "early_hurricanes = 0\n",
    "\n",
    "for hurricane in florida_hurricane_dates:\n",
    "    if hurricane.month < 6:\n",
    "        early_hurricanes = early_hurricanes + 1\n",
    "    \n",
    "early_hurricanes"
   ]
  },
  {
   "cell_type": "code",
   "execution_count": 6,
   "metadata": {},
   "outputs": [
    {
     "data": {
      "text/plain": [
       "218"
      ]
     },
     "execution_count": 6,
     "metadata": {},
     "output_type": "execute_result"
    }
   ],
   "source": [
    "start = date(2007, 5, 9)\n",
    "end = date(2007, 12, 13)\n",
    "\n",
    "(end - start).days"
   ]
  },
  {
   "cell_type": "code",
   "execution_count": 16,
   "metadata": {},
   "outputs": [
    {
     "data": {
      "text/plain": [
       "{1: 0,\n",
       " 2: 1,\n",
       " 3: 0,\n",
       " 4: 1,\n",
       " 5: 8,\n",
       " 6: 32,\n",
       " 7: 21,\n",
       " 8: 49,\n",
       " 9: 70,\n",
       " 10: 43,\n",
       " 11: 9,\n",
       " 12: 1}"
      ]
     },
     "execution_count": 16,
     "metadata": {},
     "output_type": "execute_result"
    }
   ],
   "source": [
    "hurricanes_each_month = {1: 0, 2: 0, 3: 0, 4: 0, 5: 0, 6:0,\n",
    "                         7: 0, 8:0, 9:0, 10:0, 11:0, 12:0}\n",
    "\n",
    "for hurricane in florida_hurricane_dates:\n",
    "    month = hurricane.month\n",
    "    hurricanes_each_month[month] += 1\n",
    "\n",
    "hurricanes_each_month"
   ]
  },
  {
   "cell_type": "code",
   "execution_count": 17,
   "metadata": {
    "collapsed": true
   },
   "outputs": [
    {
     "data": {
      "text/plain": [
       "[datetime.date(1988, 8, 4),\n",
       " datetime.date(1990, 10, 12),\n",
       " datetime.date(2003, 4, 20),\n",
       " datetime.date(1971, 9, 1),\n",
       " datetime.date(1988, 8, 23),\n",
       " datetime.date(1994, 8, 15),\n",
       " datetime.date(2002, 8, 4),\n",
       " datetime.date(1988, 5, 30),\n",
       " datetime.date(2003, 9, 13),\n",
       " datetime.date(2009, 8, 21),\n",
       " datetime.date(1978, 6, 22),\n",
       " datetime.date(1969, 6, 9),\n",
       " datetime.date(1976, 6, 11),\n",
       " datetime.date(1976, 8, 19),\n",
       " datetime.date(1966, 6, 9),\n",
       " datetime.date(1968, 7, 5),\n",
       " datetime.date(1987, 11, 4),\n",
       " datetime.date(1988, 8, 13),\n",
       " datetime.date(2007, 12, 13),\n",
       " datetime.date(1994, 11, 16),\n",
       " datetime.date(2003, 9, 6),\n",
       " datetime.date(1971, 8, 13),\n",
       " datetime.date(1981, 8, 17),\n",
       " datetime.date(1998, 9, 25),\n",
       " datetime.date(1968, 9, 26),\n",
       " datetime.date(1968, 6, 4),\n",
       " datetime.date(1998, 11, 5),\n",
       " datetime.date(2008, 8, 18),\n",
       " datetime.date(1987, 8, 14),\n",
       " datetime.date(1988, 11, 23),\n",
       " datetime.date(2010, 9, 29),\n",
       " datetime.date(1985, 7, 23),\n",
       " datetime.date(2017, 7, 31),\n",
       " datetime.date(1955, 8, 21),\n",
       " datetime.date(1986, 6, 26),\n",
       " datetime.date(1963, 10, 21),\n",
       " datetime.date(2011, 10, 28),\n",
       " datetime.date(2011, 11, 9),\n",
       " datetime.date(1997, 7, 19),\n",
       " datetime.date(2007, 6, 2),\n",
       " datetime.date(2002, 9, 14),\n",
       " datetime.date(1992, 9, 29),\n",
       " datetime.date(1971, 10, 13),\n",
       " datetime.date(1962, 8, 26),\n",
       " datetime.date(1964, 8, 27),\n",
       " datetime.date(1984, 9, 27),\n",
       " datetime.date(1973, 9, 25),\n",
       " datetime.date(1969, 10, 21),\n",
       " datetime.date(1994, 7, 3),\n",
       " datetime.date(1958, 9, 4),\n",
       " datetime.date(1985, 11, 21),\n",
       " datetime.date(2011, 9, 3),\n",
       " datetime.date(1972, 6, 19),\n",
       " datetime.date(1991, 6, 30),\n",
       " datetime.date(2004, 8, 12),\n",
       " datetime.date(2007, 9, 8),\n",
       " datetime.date(1952, 2, 3),\n",
       " datetime.date(1965, 9, 30),\n",
       " datetime.date(2000, 9, 22),\n",
       " datetime.date(2002, 9, 26),\n",
       " datetime.date(1950, 9, 5),\n",
       " datetime.date(1966, 10, 4),\n",
       " datetime.date(1970, 5, 25),\n",
       " datetime.date(1979, 9, 24),\n",
       " datetime.date(1960, 9, 23),\n",
       " datetime.date(2007, 8, 23),\n",
       " datetime.date(2009, 8, 16),\n",
       " datetime.date(1996, 10, 18),\n",
       " datetime.date(2012, 10, 25),\n",
       " datetime.date(2011, 8, 25),\n",
       " datetime.date(1951, 5, 18),\n",
       " datetime.date(1980, 8, 7),\n",
       " datetime.date(1979, 9, 3),\n",
       " datetime.date(1953, 9, 26),\n",
       " datetime.date(1968, 10, 19),\n",
       " datetime.date(2009, 11, 9),\n",
       " datetime.date(1999, 8, 29),\n",
       " datetime.date(2015, 10, 1),\n",
       " datetime.date(2008, 9, 2),\n",
       " datetime.date(2004, 10, 10),\n",
       " datetime.date(2004, 9, 16),\n",
       " datetime.date(1992, 8, 24),\n",
       " datetime.date(2000, 9, 9),\n",
       " datetime.date(1971, 9, 16),\n",
       " datetime.date(1996, 9, 2),\n",
       " datetime.date(1998, 9, 3),\n",
       " datetime.date(1951, 10, 2),\n",
       " datetime.date(1979, 9, 12),\n",
       " datetime.date(2007, 10, 31),\n",
       " datetime.date(1953, 10, 9),\n",
       " datetime.date(1952, 8, 30),\n",
       " datetime.date(1969, 9, 7),\n",
       " datetime.date(2015, 8, 30),\n",
       " datetime.date(1959, 10, 8),\n",
       " datetime.date(2002, 7, 13),\n",
       " datetime.date(1961, 10, 29),\n",
       " datetime.date(2007, 5, 9),\n",
       " datetime.date(2016, 10, 7),\n",
       " datetime.date(1964, 9, 20),\n",
       " datetime.date(1979, 7, 11),\n",
       " datetime.date(1950, 10, 18),\n",
       " datetime.date(2008, 8, 31),\n",
       " datetime.date(2012, 8, 25),\n",
       " datetime.date(1966, 7, 24),\n",
       " datetime.date(2010, 8, 10),\n",
       " datetime.date(2005, 8, 25),\n",
       " datetime.date(2003, 6, 30),\n",
       " datetime.date(1956, 7, 6),\n",
       " datetime.date(1974, 9, 8),\n",
       " datetime.date(1966, 6, 30),\n",
       " datetime.date(2016, 9, 14),\n",
       " datetime.date(1968, 6, 18),\n",
       " datetime.date(1982, 9, 11),\n",
       " datetime.date(1976, 9, 13),\n",
       " datetime.date(1975, 7, 29),\n",
       " datetime.date(2007, 9, 13),\n",
       " datetime.date(1970, 9, 27),\n",
       " datetime.date(1969, 10, 2),\n",
       " datetime.date(2010, 8, 31),\n",
       " datetime.date(1995, 10, 4),\n",
       " datetime.date(1969, 8, 29),\n",
       " datetime.date(1984, 10, 26),\n",
       " datetime.date(1973, 9, 3),\n",
       " datetime.date(1976, 5, 23),\n",
       " datetime.date(2001, 11, 5),\n",
       " datetime.date(2010, 6, 30),\n",
       " datetime.date(1985, 10, 10),\n",
       " datetime.date(1970, 7, 22),\n",
       " datetime.date(1972, 5, 28),\n",
       " datetime.date(1982, 6, 18),\n",
       " datetime.date(2001, 8, 6),\n",
       " datetime.date(1953, 8, 29),\n",
       " datetime.date(1965, 9, 8),\n",
       " datetime.date(1964, 9, 10),\n",
       " datetime.date(1959, 10, 18),\n",
       " datetime.date(1957, 6, 8),\n",
       " datetime.date(1988, 9, 10),\n",
       " datetime.date(2005, 6, 11),\n",
       " datetime.date(1953, 6, 6),\n",
       " datetime.date(2003, 8, 30),\n",
       " datetime.date(2002, 10, 3),\n",
       " datetime.date(1968, 8, 10),\n",
       " datetime.date(1999, 10, 15),\n",
       " datetime.date(2002, 9, 4),\n",
       " datetime.date(2001, 6, 12),\n",
       " datetime.date(2017, 9, 10),\n",
       " datetime.date(2005, 10, 5),\n",
       " datetime.date(2005, 7, 10),\n",
       " datetime.date(1973, 6, 7),\n",
       " datetime.date(1999, 9, 15),\n",
       " datetime.date(2005, 9, 20),\n",
       " datetime.date(1995, 6, 5),\n",
       " datetime.date(2003, 7, 25),\n",
       " datetime.date(2004, 9, 13),\n",
       " datetime.date(1964, 6, 6),\n",
       " datetime.date(1973, 6, 23),\n",
       " datetime.date(2005, 9, 12),\n",
       " datetime.date(2012, 6, 23),\n",
       " datetime.date(1961, 9, 11),\n",
       " datetime.date(1990, 5, 25),\n",
       " datetime.date(2017, 6, 21),\n",
       " datetime.date(1975, 6, 27),\n",
       " datetime.date(1959, 6, 18),\n",
       " datetime.date(2004, 9, 5),\n",
       " datetime.date(1987, 10, 12),\n",
       " datetime.date(1995, 7, 27),\n",
       " datetime.date(1964, 10, 14),\n",
       " datetime.date(1970, 8, 6),\n",
       " datetime.date(1969, 10, 1),\n",
       " datetime.date(1996, 10, 8),\n",
       " datetime.date(1968, 8, 28),\n",
       " datetime.date(1956, 10, 15),\n",
       " datetime.date(1975, 9, 23),\n",
       " datetime.date(1970, 9, 13),\n",
       " datetime.date(1975, 10, 16),\n",
       " datetime.date(1990, 10, 9),\n",
       " datetime.date(2005, 10, 24),\n",
       " datetime.date(1950, 8, 31),\n",
       " datetime.date(2000, 10, 3),\n",
       " datetime.date(2002, 10, 11),\n",
       " datetime.date(1983, 8, 28),\n",
       " datetime.date(1960, 7, 29),\n",
       " datetime.date(1950, 10, 21),\n",
       " datetime.date(1995, 8, 2),\n",
       " datetime.date(1956, 9, 24),\n",
       " datetime.date(2016, 9, 1),\n",
       " datetime.date(1993, 6, 1),\n",
       " datetime.date(1987, 9, 7),\n",
       " datetime.date(2012, 5, 28),\n",
       " datetime.date(1995, 8, 23),\n",
       " datetime.date(1969, 8, 18),\n",
       " datetime.date(2001, 9, 14),\n",
       " datetime.date(2000, 8, 23),\n",
       " datetime.date(1974, 10, 7),\n",
       " datetime.date(1986, 8, 13),\n",
       " datetime.date(1977, 8, 27),\n",
       " datetime.date(2008, 7, 16),\n",
       " datetime.date(1996, 7, 11),\n",
       " datetime.date(1988, 9, 4),\n",
       " datetime.date(1975, 10, 1),\n",
       " datetime.date(2003, 8, 14),\n",
       " datetime.date(1957, 9, 8),\n",
       " datetime.date(2005, 7, 6),\n",
       " datetime.date(1960, 9, 15),\n",
       " datetime.date(1974, 9, 27),\n",
       " datetime.date(1965, 6, 15),\n",
       " datetime.date(1999, 9, 21),\n",
       " datetime.date(2004, 8, 13),\n",
       " datetime.date(1994, 10, 2),\n",
       " datetime.date(1971, 8, 10),\n",
       " datetime.date(2008, 7, 22),\n",
       " datetime.date(2000, 9, 18),\n",
       " datetime.date(1960, 9, 10),\n",
       " datetime.date(2006, 6, 13),\n",
       " datetime.date(2017, 10, 29),\n",
       " datetime.date(1972, 9, 5),\n",
       " datetime.date(1964, 10, 5),\n",
       " datetime.date(1991, 10, 16),\n",
       " datetime.date(1969, 9, 21),\n",
       " datetime.date(1998, 9, 20),\n",
       " datetime.date(1977, 9, 5),\n",
       " datetime.date(1988, 9, 13),\n",
       " datetime.date(1974, 6, 25),\n",
       " datetime.date(2010, 7, 23),\n",
       " datetime.date(2007, 9, 22),\n",
       " datetime.date(1984, 9, 9),\n",
       " datetime.date(1989, 9, 22),\n",
       " datetime.date(1992, 6, 25),\n",
       " datetime.date(1971, 8, 29),\n",
       " datetime.date(1953, 9, 20),\n",
       " datetime.date(1985, 8, 15),\n",
       " datetime.date(2016, 6, 6),\n",
       " datetime.date(2006, 8, 30),\n",
       " datetime.date(1980, 11, 18),\n",
       " datetime.date(2011, 7, 18)]"
      ]
     },
     "execution_count": 17,
     "metadata": {},
     "output_type": "execute_result"
    }
   ],
   "source": [
    "import pickle\n",
    "\n",
    "# Open pickle file and load data: d\n",
    "with open('florida_hurricane_dates.pkl', 'rb') as file:\n",
    "    dates = pickle.load(file)\n",
    "\n",
    "dates"
   ]
  },
  {
   "cell_type": "code",
   "execution_count": 19,
   "metadata": {},
   "outputs": [
    {
     "name": "stdout",
     "output_type": "stream",
     "text": [
      "1988-08-04\n",
      "2011-07-18\n",
      "1950-08-31\n",
      "2017-10-29\n"
     ]
    }
   ],
   "source": [
    "print(dates[0])\n",
    "print(dates[-1])\n",
    "\n",
    "dates_ordered = sorted(dates)\n",
    "\n",
    "# Print the first and last ordered dates\n",
    "print(dates_ordered[0])\n",
    "print(dates_ordered[-1])"
   ]
  },
  {
   "cell_type": "markdown",
   "metadata": {},
   "source": [
    "### Dates and strings"
   ]
  },
  {
   "cell_type": "markdown",
   "metadata": {},
   "source": [
    "#### ISO 8601 format"
   ]
  },
  {
   "cell_type": "code",
   "execution_count": 23,
   "metadata": {},
   "outputs": [
    {
     "name": "stdout",
     "output_type": "stream",
     "text": [
      "2021-06-03\n"
     ]
    }
   ],
   "source": [
    "from datetime import date\n",
    "d = date(2021, 6, 3)\n",
    "print(d) #ISO format YYYY-MM-DD"
   ]
  },
  {
   "cell_type": "code",
   "execution_count": 24,
   "metadata": {},
   "outputs": [
    {
     "data": {
      "text/plain": [
       "datetime.date(2021, 6, 3)"
      ]
     },
     "execution_count": 24,
     "metadata": {},
     "output_type": "execute_result"
    }
   ],
   "source": [
    "d"
   ]
  },
  {
   "cell_type": "code",
   "execution_count": 25,
   "metadata": {},
   "outputs": [
    {
     "name": "stdout",
     "output_type": "stream",
     "text": [
      "['2021-06-03']\n"
     ]
    }
   ],
   "source": [
    "print([d.isoformat()])"
   ]
  },
  {
   "cell_type": "code",
   "execution_count": 26,
   "metadata": {},
   "outputs": [
    {
     "data": {
      "text/plain": [
       "['1998-07-12', '2000-01-01']"
      ]
     },
     "execution_count": 26,
     "metadata": {},
     "output_type": "execute_result"
    }
   ],
   "source": [
    "some_dates = ['2000-01-01', '1998-07-12']\n",
    "sorted(some_dates)"
   ]
  },
  {
   "cell_type": "markdown",
   "metadata": {},
   "source": [
    "#### Other format"
   ]
  },
  {
   "cell_type": "code",
   "execution_count": 28,
   "metadata": {},
   "outputs": [
    {
     "name": "stdout",
     "output_type": "stream",
     "text": [
      "1998\n"
     ]
    }
   ],
   "source": [
    "d = date(1998, 7, 12)\n",
    "print(d.strftime(\"%Y\"))"
   ]
  },
  {
   "cell_type": "code",
   "execution_count": 29,
   "metadata": {},
   "outputs": [
    {
     "name": "stdout",
     "output_type": "stream",
     "text": [
      "Year is 1998\n"
     ]
    }
   ],
   "source": [
    "print(d.strftime('Year is %Y'))"
   ]
  },
  {
   "cell_type": "code",
   "execution_count": 30,
   "metadata": {},
   "outputs": [
    {
     "name": "stdout",
     "output_type": "stream",
     "text": [
      "1998/07/12\n"
     ]
    }
   ],
   "source": [
    "print(d.strftime('%Y/%m/%d'))"
   ]
  },
  {
   "cell_type": "code",
   "execution_count": 31,
   "metadata": {},
   "outputs": [
    {
     "name": "stdout",
     "output_type": "stream",
     "text": [
      "ISO: Our earliest hurricane date: 1950-08-31\n",
      "US: Our earliest hurricane date: 08/31/1950\n"
     ]
    }
   ],
   "source": [
    "first_date = min(dates)\n",
    "\n",
    "iso = \"Our earliest hurricane date: \" + first_date.isoformat()\n",
    "us = \"Our earliest hurricane date: \" + first_date.strftime(\"%m/%d/%Y\")\n",
    "\n",
    "print(\"ISO: \" + iso)\n",
    "print(\"US: \" + us)"
   ]
  },
  {
   "cell_type": "code",
   "execution_count": 32,
   "metadata": {},
   "outputs": [
    {
     "name": "stdout",
     "output_type": "stream",
     "text": [
      "1992-08\n",
      "August (1992)\n",
      "1992-239\n"
     ]
    }
   ],
   "source": [
    "andrew = date(1992, 8, 26)\n",
    "print(andrew.strftime('%Y-%m'))\n",
    "print(andrew.strftime('%B (%Y)'))\n",
    "print(andrew.strftime('%Y-%j'))"
   ]
  },
  {
   "cell_type": "markdown",
   "metadata": {},
   "source": [
    "## Dates with times"
   ]
  },
  {
   "cell_type": "code",
   "execution_count": 41,
   "metadata": {},
   "outputs": [
    {
     "name": "stdout",
     "output_type": "stream",
     "text": [
      "2017-10-01 15:23:25.500000\n"
     ]
    }
   ],
   "source": [
    "#October 1 2017, 3:23:25 PM\n",
    "from datetime import datetime\n",
    "\n",
    "dt = datetime(year = 2017,month = 10, day = 1, hour = 15, minute = 23, second = 25, microsecond = 500000)\n",
    "print(dt)"
   ]
  },
  {
   "cell_type": "code",
   "execution_count": 42,
   "metadata": {},
   "outputs": [
    {
     "name": "stdout",
     "output_type": "stream",
     "text": [
      "2017-10-01 15:00:00\n"
     ]
    }
   ],
   "source": [
    "dt_hr = dt.replace(minute = 0, second = 0, microsecond = 0)\n",
    "print(dt_hr)"
   ]
  },
  {
   "cell_type": "code",
   "execution_count": 43,
   "metadata": {},
   "outputs": [
    {
     "name": "stdout",
     "output_type": "stream",
     "text": [
      "2017-10-01T15:26:26\n"
     ]
    }
   ],
   "source": [
    "dt = datetime(2017, 10, 1, 15, 26, 26)\n",
    "print(dt.isoformat())"
   ]
  },
  {
   "cell_type": "code",
   "execution_count": 49,
   "metadata": {},
   "outputs": [],
   "source": [
    "import datetime \n",
    "datetimes = [{'end': datetime.datetime(2017, 10, 1, 15, 26, 26),\n",
    "  'start': datetime.datetime(2017, 10, 1, 15, 23, 25)},\n",
    " {'end': datetime.datetime(2017, 10, 1, 17, 49, 59),\n",
    "  'start': datetime.datetime(2017, 10, 1, 15, 42, 57)},\n",
    " {'end': datetime.datetime(2017, 10, 2, 6, 42, 53),\n",
    "  'start': datetime.datetime(2017, 10, 2, 6, 37, 10)},\n",
    " {'end': datetime.datetime(2017, 10, 2, 9, 18, 3),\n",
    "  'start': datetime.datetime(2017, 10, 2, 8, 56, 45)},\n",
    " {'end': datetime.datetime(2017, 10, 2, 18, 45, 5),\n",
    "  'start': datetime.datetime(2017, 10, 2, 18, 23, 48)},\n",
    " {'end': datetime.datetime(2017, 10, 2, 19, 10, 54),\n",
    "  'start': datetime.datetime(2017, 10, 2, 18, 48, 8)},\n",
    " {'end': datetime.datetime(2017, 10, 2, 19, 31, 45),\n",
    "  'start': datetime.datetime(2017, 10, 2, 19, 18, 10)},\n",
    " {'end': datetime.datetime(2017, 10, 2, 19, 46, 37),\n",
    "  'start': datetime.datetime(2017, 10, 2, 19, 37, 32)},\n",
    " {'end': datetime.datetime(2017, 10, 3, 8, 32, 27),\n",
    "  'start': datetime.datetime(2017, 10, 3, 8, 24, 16)},\n",
    " {'end': datetime.datetime(2017, 10, 3, 18, 27, 46),\n",
    "  'start': datetime.datetime(2017, 10, 3, 18, 17, 7)},\n",
    " {'end': datetime.datetime(2017, 10, 3, 19, 52, 8),\n",
    "  'start': datetime.datetime(2017, 10, 3, 19, 24, 10)},\n",
    " {'end': datetime.datetime(2017, 10, 3, 20, 23, 52),\n",
    "  'start': datetime.datetime(2017, 10, 3, 20, 17, 6)},\n",
    " {'end': datetime.datetime(2017, 10, 3, 20, 57, 10),\n",
    "  'start': datetime.datetime(2017, 10, 3, 20, 45, 21)},\n",
    " {'end': datetime.datetime(2017, 10, 4, 7, 13, 31),\n",
    "  'start': datetime.datetime(2017, 10, 4, 7, 4, 57)},\n",
    " {'end': datetime.datetime(2017, 10, 4, 7, 21, 54),\n",
    "  'start': datetime.datetime(2017, 10, 4, 7, 13, 42)},\n",
    " {'end': datetime.datetime(2017, 10, 4, 14, 50),\n",
    "  'start': datetime.datetime(2017, 10, 4, 14, 22, 12)},\n",
    " {'end': datetime.datetime(2017, 10, 4, 15, 44, 49),\n",
    "  'start': datetime.datetime(2017, 10, 4, 15, 7, 27)},\n",
    " {'end': datetime.datetime(2017, 10, 4, 16, 32, 33),\n",
    "  'start': datetime.datetime(2017, 10, 4, 15, 46, 41)},\n",
    " {'end': datetime.datetime(2017, 10, 4, 16, 46, 59),\n",
    "  'start': datetime.datetime(2017, 10, 4, 16, 34, 44)},\n",
    " {'end': datetime.datetime(2017, 10, 4, 17, 31, 36),\n",
    "  'start': datetime.datetime(2017, 10, 4, 17, 26, 6)},\n",
    " {'end': datetime.datetime(2017, 10, 4, 17, 50, 41),\n",
    "  'start': datetime.datetime(2017, 10, 4, 17, 42, 3)},\n",
    " {'end': datetime.datetime(2017, 10, 5, 8, 12, 55),\n",
    "  'start': datetime.datetime(2017, 10, 5, 7, 49, 2)},\n",
    " {'end': datetime.datetime(2017, 10, 5, 8, 29, 45),\n",
    "  'start': datetime.datetime(2017, 10, 5, 8, 26, 21)},\n",
    " {'end': datetime.datetime(2017, 10, 5, 8, 38, 31),\n",
    "  'start': datetime.datetime(2017, 10, 5, 8, 33, 27)},\n",
    " {'end': datetime.datetime(2017, 10, 5, 16, 51, 52),\n",
    "  'start': datetime.datetime(2017, 10, 5, 16, 35, 35)},\n",
    " {'end': datetime.datetime(2017, 10, 5, 18, 16, 50),\n",
    "  'start': datetime.datetime(2017, 10, 5, 17, 53, 31)},\n",
    " {'end': datetime.datetime(2017, 10, 6, 8, 38, 1),\n",
    "  'start': datetime.datetime(2017, 10, 6, 8, 17, 17)},\n",
    " {'end': datetime.datetime(2017, 10, 6, 11, 50, 38),\n",
    "  'start': datetime.datetime(2017, 10, 6, 11, 39, 40)},\n",
    " {'end': datetime.datetime(2017, 10, 6, 13, 13, 14),\n",
    "  'start': datetime.datetime(2017, 10, 6, 12, 59, 54)},\n",
    " {'end': datetime.datetime(2017, 10, 6, 14, 14, 56),\n",
    "  'start': datetime.datetime(2017, 10, 6, 13, 43, 5)},\n",
    " {'end': datetime.datetime(2017, 10, 6, 15, 9, 26),\n",
    "  'start': datetime.datetime(2017, 10, 6, 14, 28, 15)},\n",
    " {'end': datetime.datetime(2017, 10, 6, 16, 12, 34),\n",
    "  'start': datetime.datetime(2017, 10, 6, 15, 50, 10)},\n",
    " {'end': datetime.datetime(2017, 10, 6, 16, 39, 31),\n",
    "  'start': datetime.datetime(2017, 10, 6, 16, 32, 16)},\n",
    " {'end': datetime.datetime(2017, 10, 6, 16, 48, 39),\n",
    "  'start': datetime.datetime(2017, 10, 6, 16, 44, 8)},\n",
    " {'end': datetime.datetime(2017, 10, 6, 17, 9, 3),\n",
    "  'start': datetime.datetime(2017, 10, 6, 16, 53, 43)},\n",
    " {'end': datetime.datetime(2017, 10, 7, 11, 53, 6),\n",
    "  'start': datetime.datetime(2017, 10, 7, 11, 38, 55)},\n",
    " {'end': datetime.datetime(2017, 10, 7, 14, 7, 5),\n",
    "  'start': datetime.datetime(2017, 10, 7, 14, 3, 36)},\n",
    " {'end': datetime.datetime(2017, 10, 7, 14, 27, 36),\n",
    "  'start': datetime.datetime(2017, 10, 7, 14, 20, 3)},\n",
    " {'end': datetime.datetime(2017, 10, 7, 14, 44, 51),\n",
    "  'start': datetime.datetime(2017, 10, 7, 14, 30, 50)},\n",
    " {'end': datetime.datetime(2017, 10, 8, 0, 30, 48),\n",
    "  'start': datetime.datetime(2017, 10, 8, 0, 28, 26)},\n",
    " {'end': datetime.datetime(2017, 10, 8, 11, 33, 24),\n",
    "  'start': datetime.datetime(2017, 10, 8, 11, 16, 21)},\n",
    " {'end': datetime.datetime(2017, 10, 8, 13, 1, 29),\n",
    "  'start': datetime.datetime(2017, 10, 8, 12, 37, 3)},\n",
    " {'end': datetime.datetime(2017, 10, 8, 13, 57, 53),\n",
    "  'start': datetime.datetime(2017, 10, 8, 13, 30, 37)},\n",
    " {'end': datetime.datetime(2017, 10, 8, 15, 7, 19),\n",
    "  'start': datetime.datetime(2017, 10, 8, 14, 16, 40)},\n",
    " {'end': datetime.datetime(2017, 10, 8, 15, 50, 1),\n",
    "  'start': datetime.datetime(2017, 10, 8, 15, 23, 50)},\n",
    " {'end': datetime.datetime(2017, 10, 8, 16, 17, 42),\n",
    "  'start': datetime.datetime(2017, 10, 8, 15, 54, 12)},\n",
    " {'end': datetime.datetime(2017, 10, 8, 16, 35, 18),\n",
    "  'start': datetime.datetime(2017, 10, 8, 16, 28, 52)},\n",
    " {'end': datetime.datetime(2017, 10, 8, 23, 33, 41),\n",
    "  'start': datetime.datetime(2017, 10, 8, 23, 8, 14)},\n",
    " {'end': datetime.datetime(2017, 10, 8, 23, 45, 11),\n",
    "  'start': datetime.datetime(2017, 10, 8, 23, 34, 49)},\n",
    " {'end': datetime.datetime(2017, 10, 9, 0, 10, 57),\n",
    "  'start': datetime.datetime(2017, 10, 8, 23, 46, 47)},\n",
    " {'end': datetime.datetime(2017, 10, 9, 0, 36, 40),\n",
    "  'start': datetime.datetime(2017, 10, 9, 0, 12, 58)},\n",
    " {'end': datetime.datetime(2017, 10, 9, 0, 53, 33),\n",
    "  'start': datetime.datetime(2017, 10, 9, 0, 37, 2)},\n",
    " {'end': datetime.datetime(2017, 10, 9, 1, 48, 13),\n",
    "  'start': datetime.datetime(2017, 10, 9, 1, 23, 29)},\n",
    " {'end': datetime.datetime(2017, 10, 9, 2, 13, 35),\n",
    "  'start': datetime.datetime(2017, 10, 9, 1, 49, 25)},\n",
    " {'end': datetime.datetime(2017, 10, 9, 2, 29, 40),\n",
    "  'start': datetime.datetime(2017, 10, 9, 2, 14, 11)},\n",
    " {'end': datetime.datetime(2017, 10, 9, 13, 13, 25),\n",
    "  'start': datetime.datetime(2017, 10, 9, 13, 4, 32)},\n",
    " {'end': datetime.datetime(2017, 10, 9, 14, 38, 55),\n",
    "  'start': datetime.datetime(2017, 10, 9, 14, 30, 10)},\n",
    " {'end': datetime.datetime(2017, 10, 9, 15, 11, 30),\n",
    "  'start': datetime.datetime(2017, 10, 9, 15, 6, 47)},\n",
    " {'end': datetime.datetime(2017, 10, 9, 16, 45, 38),\n",
    "  'start': datetime.datetime(2017, 10, 9, 16, 43, 25)},\n",
    " {'end': datetime.datetime(2017, 10, 10, 15, 51, 24),\n",
    "  'start': datetime.datetime(2017, 10, 10, 15, 32, 58)},\n",
    " {'end': datetime.datetime(2017, 10, 10, 17, 3, 47),\n",
    "  'start': datetime.datetime(2017, 10, 10, 16, 47, 55)},\n",
    " {'end': datetime.datetime(2017, 10, 10, 18, 0, 18),\n",
    "  'start': datetime.datetime(2017, 10, 10, 17, 51, 5)},\n",
    " {'end': datetime.datetime(2017, 10, 10, 18, 19, 11),\n",
    "  'start': datetime.datetime(2017, 10, 10, 18, 8, 12)},\n",
    " {'end': datetime.datetime(2017, 10, 10, 19, 14, 32),\n",
    "  'start': datetime.datetime(2017, 10, 10, 19, 9, 35)},\n",
    " {'end': datetime.datetime(2017, 10, 10, 19, 23, 8),\n",
    "  'start': datetime.datetime(2017, 10, 10, 19, 17, 11)},\n",
    " {'end': datetime.datetime(2017, 10, 10, 19, 44, 40),\n",
    "  'start': datetime.datetime(2017, 10, 10, 19, 28, 11)},\n",
    " {'end': datetime.datetime(2017, 10, 10, 20, 11, 54),\n",
    "  'start': datetime.datetime(2017, 10, 10, 19, 55, 35)},\n",
    " {'end': datetime.datetime(2017, 10, 10, 22, 33, 23),\n",
    "  'start': datetime.datetime(2017, 10, 10, 22, 20, 43)},\n",
    " {'end': datetime.datetime(2017, 10, 11, 4, 59, 22),\n",
    "  'start': datetime.datetime(2017, 10, 11, 4, 40, 52)},\n",
    " {'end': datetime.datetime(2017, 10, 11, 6, 40, 13),\n",
    "  'start': datetime.datetime(2017, 10, 11, 6, 28, 58)},\n",
    " {'end': datetime.datetime(2017, 10, 11, 17, 1, 14),\n",
    "  'start': datetime.datetime(2017, 10, 11, 16, 41, 7)},\n",
    " {'end': datetime.datetime(2017, 10, 12, 8, 35, 3),\n",
    "  'start': datetime.datetime(2017, 10, 12, 8, 8, 30)},\n",
    " {'end': datetime.datetime(2017, 10, 12, 8, 59, 50),\n",
    "  'start': datetime.datetime(2017, 10, 12, 8, 47, 2)},\n",
    " {'end': datetime.datetime(2017, 10, 12, 13, 37, 45),\n",
    "  'start': datetime.datetime(2017, 10, 12, 13, 13, 39)},\n",
    " {'end': datetime.datetime(2017, 10, 12, 13, 48, 17),\n",
    "  'start': datetime.datetime(2017, 10, 12, 13, 40, 12)},\n",
    " {'end': datetime.datetime(2017, 10, 12, 13, 53, 16),\n",
    "  'start': datetime.datetime(2017, 10, 12, 13, 49, 56)},\n",
    " {'end': datetime.datetime(2017, 10, 12, 14, 39, 57),\n",
    "  'start': datetime.datetime(2017, 10, 12, 14, 33, 18)},\n",
    " {'end': datetime.datetime(2017, 10, 13, 15, 59, 41),\n",
    "  'start': datetime.datetime(2017, 10, 13, 15, 55, 39)},\n",
    " {'end': datetime.datetime(2017, 10, 17, 18, 1, 38),\n",
    "  'start': datetime.datetime(2017, 10, 17, 17, 58, 48)},\n",
    " {'end': datetime.datetime(2017, 10, 19, 20, 29, 15),\n",
    "  'start': datetime.datetime(2017, 10, 19, 20, 21, 45)},\n",
    " {'end': datetime.datetime(2017, 10, 19, 21, 29, 37),\n",
    "  'start': datetime.datetime(2017, 10, 19, 21, 11, 39)},\n",
    " {'end': datetime.datetime(2017, 10, 19, 21, 47, 23),\n",
    "  'start': datetime.datetime(2017, 10, 19, 21, 30, 1)},\n",
    " {'end': datetime.datetime(2017, 10, 19, 21, 57, 7),\n",
    "  'start': datetime.datetime(2017, 10, 19, 21, 47, 34)},\n",
    " {'end': datetime.datetime(2017, 10, 19, 22, 9, 52),\n",
    "  'start': datetime.datetime(2017, 10, 19, 21, 57, 24)},\n",
    " {'end': datetime.datetime(2017, 10, 21, 12, 36, 24),\n",
    "  'start': datetime.datetime(2017, 10, 21, 12, 24, 9)},\n",
    " {'end': datetime.datetime(2017, 10, 21, 12, 42, 13),\n",
    "  'start': datetime.datetime(2017, 10, 21, 12, 36, 37)},\n",
    " {'end': datetime.datetime(2017, 10, 22, 11, 9, 36),\n",
    "  'start': datetime.datetime(2017, 10, 21, 13, 47, 43)},\n",
    " {'end': datetime.datetime(2017, 10, 22, 13, 31, 44),\n",
    "  'start': datetime.datetime(2017, 10, 22, 13, 28, 53)},\n",
    " {'end': datetime.datetime(2017, 10, 22, 13, 56, 33),\n",
    "  'start': datetime.datetime(2017, 10, 22, 13, 47, 5)},\n",
    " {'end': datetime.datetime(2017, 10, 22, 14, 32, 39),\n",
    "  'start': datetime.datetime(2017, 10, 22, 14, 26, 41)},\n",
    " {'end': datetime.datetime(2017, 10, 22, 15, 9, 58),\n",
    "  'start': datetime.datetime(2017, 10, 22, 14, 54, 41)},\n",
    " {'end': datetime.datetime(2017, 10, 22, 16, 51, 40),\n",
    "  'start': datetime.datetime(2017, 10, 22, 16, 40, 29)},\n",
    " {'end': datetime.datetime(2017, 10, 22, 18, 28, 37),\n",
    "  'start': datetime.datetime(2017, 10, 22, 17, 58, 46)},\n",
    " {'end': datetime.datetime(2017, 10, 22, 18, 50, 34),\n",
    "  'start': datetime.datetime(2017, 10, 22, 18, 45, 16)},\n",
    " {'end': datetime.datetime(2017, 10, 22, 19, 11, 10),\n",
    "  'start': datetime.datetime(2017, 10, 22, 18, 56, 22)},\n",
    " {'end': datetime.datetime(2017, 10, 23, 10, 35, 32),\n",
    "  'start': datetime.datetime(2017, 10, 23, 10, 14, 8)},\n",
    " {'end': datetime.datetime(2017, 10, 23, 14, 38, 34),\n",
    "  'start': datetime.datetime(2017, 10, 23, 11, 29, 36)},\n",
    " {'end': datetime.datetime(2017, 10, 23, 15, 32, 58),\n",
    "  'start': datetime.datetime(2017, 10, 23, 15, 4, 52)},\n",
    " {'end': datetime.datetime(2017, 10, 23, 17, 6, 47),\n",
    "  'start': datetime.datetime(2017, 10, 23, 15, 33, 48)},\n",
    " {'end': datetime.datetime(2017, 10, 23, 19, 31, 26),\n",
    "  'start': datetime.datetime(2017, 10, 23, 17, 13, 16)},\n",
    " {'end': datetime.datetime(2017, 10, 23, 20, 25, 53),\n",
    "  'start': datetime.datetime(2017, 10, 23, 19, 55, 3)},\n",
    " {'end': datetime.datetime(2017, 10, 23, 22, 18, 4),\n",
    "  'start': datetime.datetime(2017, 10, 23, 21, 47, 54)},\n",
    " {'end': datetime.datetime(2017, 10, 23, 22, 48, 42),\n",
    "  'start': datetime.datetime(2017, 10, 23, 22, 34, 12)},\n",
    " {'end': datetime.datetime(2017, 10, 24, 7, 2, 17),\n",
    "  'start': datetime.datetime(2017, 10, 24, 6, 55, 1)},\n",
    " {'end': datetime.datetime(2017, 10, 24, 15, 3, 16),\n",
    "  'start': datetime.datetime(2017, 10, 24, 14, 56, 7)},\n",
    " {'end': datetime.datetime(2017, 10, 24, 15, 59, 50),\n",
    "  'start': datetime.datetime(2017, 10, 24, 15, 51, 36)},\n",
    " {'end': datetime.datetime(2017, 10, 24, 16, 55, 9),\n",
    "  'start': datetime.datetime(2017, 10, 24, 16, 31, 10)},\n",
    " {'end': datetime.datetime(2017, 10, 28, 14, 32, 34),\n",
    "  'start': datetime.datetime(2017, 10, 28, 14, 26, 14)},\n",
    " {'end': datetime.datetime(2017, 11, 1, 9, 52, 23),\n",
    "  'start': datetime.datetime(2017, 11, 1, 9, 41, 54)},\n",
    " {'end': datetime.datetime(2017, 11, 1, 20, 32, 13),\n",
    "  'start': datetime.datetime(2017, 11, 1, 20, 16, 11)},\n",
    " {'end': datetime.datetime(2017, 11, 2, 19, 50, 56),\n",
    "  'start': datetime.datetime(2017, 11, 2, 19, 44, 29)},\n",
    " {'end': datetime.datetime(2017, 11, 2, 20, 30, 29),\n",
    "  'start': datetime.datetime(2017, 11, 2, 20, 14, 37)},\n",
    " {'end': datetime.datetime(2017, 11, 2, 21, 38, 57),\n",
    "  'start': datetime.datetime(2017, 11, 2, 21, 35, 47)},\n",
    " {'end': datetime.datetime(2017, 11, 3, 10, 11, 46),\n",
    "  'start': datetime.datetime(2017, 11, 3, 9, 59, 27)},\n",
    " {'end': datetime.datetime(2017, 11, 3, 10, 32, 2),\n",
    "  'start': datetime.datetime(2017, 11, 3, 10, 13, 22)},\n",
    " {'end': datetime.datetime(2017, 11, 3, 10, 50, 34),\n",
    "  'start': datetime.datetime(2017, 11, 3, 10, 44, 25)},\n",
    " {'end': datetime.datetime(2017, 11, 3, 16, 44, 38),\n",
    "  'start': datetime.datetime(2017, 11, 3, 16, 6, 43)},\n",
    " {'end': datetime.datetime(2017, 11, 3, 17, 0, 27),\n",
    "  'start': datetime.datetime(2017, 11, 3, 16, 45, 54)},\n",
    " {'end': datetime.datetime(2017, 11, 3, 17, 35, 5),\n",
    "  'start': datetime.datetime(2017, 11, 3, 17, 7, 15)},\n",
    " {'end': datetime.datetime(2017, 11, 3, 17, 46, 48),\n",
    "  'start': datetime.datetime(2017, 11, 3, 17, 36, 5)},\n",
    " {'end': datetime.datetime(2017, 11, 3, 18, 0, 3),\n",
    "  'start': datetime.datetime(2017, 11, 3, 17, 50, 31)},\n",
    " {'end': datetime.datetime(2017, 11, 3, 19, 45, 51),\n",
    "  'start': datetime.datetime(2017, 11, 3, 19, 22, 56)},\n",
    " {'end': datetime.datetime(2017, 11, 4, 13, 26, 15),\n",
    "  'start': datetime.datetime(2017, 11, 4, 13, 14, 10)},\n",
    " {'end': datetime.datetime(2017, 11, 4, 14, 30, 5),\n",
    "  'start': datetime.datetime(2017, 11, 4, 14, 18, 37)},\n",
    " {'end': datetime.datetime(2017, 11, 4, 15, 3, 20),\n",
    "  'start': datetime.datetime(2017, 11, 4, 14, 45, 59)},\n",
    " {'end': datetime.datetime(2017, 11, 4, 15, 44, 30),\n",
    "  'start': datetime.datetime(2017, 11, 4, 15, 16, 3)},\n",
    " {'end': datetime.datetime(2017, 11, 4, 16, 58, 22),\n",
    "  'start': datetime.datetime(2017, 11, 4, 16, 37, 46)},\n",
    " {'end': datetime.datetime(2017, 11, 4, 17, 34, 50),\n",
    "  'start': datetime.datetime(2017, 11, 4, 17, 13, 19)},\n",
    " {'end': datetime.datetime(2017, 11, 4, 18, 58, 44),\n",
    "  'start': datetime.datetime(2017, 11, 4, 18, 10, 34)},\n",
    " {'end': datetime.datetime(2017, 11, 5, 1, 1, 4),\n",
    "  'start': datetime.datetime(2017, 11, 5, 1, 56, 50)},\n",
    " {'end': datetime.datetime(2017, 11, 5, 8, 53, 46),\n",
    "  'start': datetime.datetime(2017, 11, 5, 8, 33, 33)},\n",
    " {'end': datetime.datetime(2017, 11, 5, 9, 3, 39),\n",
    "  'start': datetime.datetime(2017, 11, 5, 8, 58, 8)},\n",
    " {'end': datetime.datetime(2017, 11, 5, 11, 30, 5),\n",
    "  'start': datetime.datetime(2017, 11, 5, 11, 5, 8)},\n",
    " {'end': datetime.datetime(2017, 11, 6, 8, 59, 5),\n",
    "  'start': datetime.datetime(2017, 11, 6, 8, 50, 18)},\n",
    " {'end': datetime.datetime(2017, 11, 6, 9, 13, 47),\n",
    "  'start': datetime.datetime(2017, 11, 6, 9, 4, 3)},\n",
    " {'end': datetime.datetime(2017, 11, 6, 17, 2, 55),\n",
    "  'start': datetime.datetime(2017, 11, 6, 16, 19, 36)},\n",
    " {'end': datetime.datetime(2017, 11, 6, 17, 34, 6),\n",
    "  'start': datetime.datetime(2017, 11, 6, 17, 21, 27)},\n",
    " {'end': datetime.datetime(2017, 11, 6, 17, 57, 32),\n",
    "  'start': datetime.datetime(2017, 11, 6, 17, 36, 1)},\n",
    " {'end': datetime.datetime(2017, 11, 6, 18, 15, 8),\n",
    "  'start': datetime.datetime(2017, 11, 6, 17, 59, 52)},\n",
    " {'end': datetime.datetime(2017, 11, 6, 18, 21, 17),\n",
    "  'start': datetime.datetime(2017, 11, 6, 18, 18, 36)},\n",
    " {'end': datetime.datetime(2017, 11, 6, 19, 37, 57),\n",
    "  'start': datetime.datetime(2017, 11, 6, 19, 24, 31)},\n",
    " {'end': datetime.datetime(2017, 11, 6, 20, 3, 14),\n",
    "  'start': datetime.datetime(2017, 11, 6, 19, 49, 16)},\n",
    " {'end': datetime.datetime(2017, 11, 7, 8, 1, 32),\n",
    "  'start': datetime.datetime(2017, 11, 7, 7, 50, 48)},\n",
    " {'end': datetime.datetime(2017, 11, 8, 13, 18, 5),\n",
    "  'start': datetime.datetime(2017, 11, 8, 13, 11, 51)},\n",
    " {'end': datetime.datetime(2017, 11, 8, 21, 46, 5),\n",
    "  'start': datetime.datetime(2017, 11, 8, 21, 34, 47)},\n",
    " {'end': datetime.datetime(2017, 11, 8, 22, 4, 47),\n",
    "  'start': datetime.datetime(2017, 11, 8, 22, 2, 30)},\n",
    " {'end': datetime.datetime(2017, 11, 9, 7, 12, 10),\n",
    "  'start': datetime.datetime(2017, 11, 9, 7, 1, 11)},\n",
    " {'end': datetime.datetime(2017, 11, 9, 8, 8, 28),\n",
    "  'start': datetime.datetime(2017, 11, 9, 8, 2, 2)},\n",
    " {'end': datetime.datetime(2017, 11, 9, 8, 32, 24),\n",
    "  'start': datetime.datetime(2017, 11, 9, 8, 19, 59)},\n",
    " {'end': datetime.datetime(2017, 11, 9, 8, 48, 59),\n",
    "  'start': datetime.datetime(2017, 11, 9, 8, 41, 31)},\n",
    " {'end': datetime.datetime(2017, 11, 9, 9, 9, 24),\n",
    "  'start': datetime.datetime(2017, 11, 9, 9, 0, 6)},\n",
    " {'end': datetime.datetime(2017, 11, 9, 9, 24, 25),\n",
    "  'start': datetime.datetime(2017, 11, 9, 9, 9, 37)},\n",
    " {'end': datetime.datetime(2017, 11, 9, 13, 25, 39),\n",
    "  'start': datetime.datetime(2017, 11, 9, 13, 14, 37)},\n",
    " {'end': datetime.datetime(2017, 11, 9, 15, 31, 10),\n",
    "  'start': datetime.datetime(2017, 11, 9, 15, 20, 7)},\n",
    " {'end': datetime.datetime(2017, 11, 9, 18, 53, 10),\n",
    "  'start': datetime.datetime(2017, 11, 9, 18, 47, 8)},\n",
    " {'end': datetime.datetime(2017, 11, 9, 23, 43, 35),\n",
    "  'start': datetime.datetime(2017, 11, 9, 23, 35, 2)},\n",
    " {'end': datetime.datetime(2017, 11, 10, 8, 2, 28),\n",
    "  'start': datetime.datetime(2017, 11, 10, 7, 51, 33)},\n",
    " {'end': datetime.datetime(2017, 11, 10, 8, 42, 9),\n",
    "  'start': datetime.datetime(2017, 11, 10, 8, 38, 28)},\n",
    " {'end': datetime.datetime(2017, 11, 11, 18, 13, 14),\n",
    "  'start': datetime.datetime(2017, 11, 11, 18, 5, 25)},\n",
    " {'end': datetime.datetime(2017, 11, 11, 19, 46, 22),\n",
    "  'start': datetime.datetime(2017, 11, 11, 19, 39, 12)},\n",
    " {'end': datetime.datetime(2017, 11, 11, 21, 16, 31),\n",
    "  'start': datetime.datetime(2017, 11, 11, 21, 13, 19)},\n",
    " {'end': datetime.datetime(2017, 11, 12, 9, 51, 43),\n",
    "  'start': datetime.datetime(2017, 11, 12, 9, 46, 19)},\n",
    " {'end': datetime.datetime(2017, 11, 13, 13, 54, 15),\n",
    "  'start': datetime.datetime(2017, 11, 13, 13, 33, 42)},\n",
    " {'end': datetime.datetime(2017, 11, 14, 8, 55, 52),\n",
    "  'start': datetime.datetime(2017, 11, 14, 8, 40, 29)},\n",
    " {'end': datetime.datetime(2017, 11, 15, 6, 30, 6),\n",
    "  'start': datetime.datetime(2017, 11, 15, 6, 14, 5)},\n",
    " {'end': datetime.datetime(2017, 11, 15, 8, 23, 44),\n",
    "  'start': datetime.datetime(2017, 11, 15, 8, 14, 59)},\n",
    " {'end': datetime.datetime(2017, 11, 15, 10, 33, 41),\n",
    "  'start': datetime.datetime(2017, 11, 15, 10, 16, 44)},\n",
    " {'end': datetime.datetime(2017, 11, 15, 10, 54, 14),\n",
    "  'start': datetime.datetime(2017, 11, 15, 10, 33, 58)},\n",
    " {'end': datetime.datetime(2017, 11, 15, 11, 14, 42),\n",
    "  'start': datetime.datetime(2017, 11, 15, 11, 2, 15)},\n",
    " {'end': datetime.datetime(2017, 11, 16, 9, 38, 49),\n",
    "  'start': datetime.datetime(2017, 11, 16, 9, 27, 41)},\n",
    " {'end': datetime.datetime(2017, 11, 16, 10, 18),\n",
    "  'start': datetime.datetime(2017, 11, 16, 9, 57, 41)},\n",
    " {'end': datetime.datetime(2017, 11, 16, 17, 44, 47),\n",
    "  'start': datetime.datetime(2017, 11, 16, 17, 25, 5)},\n",
    " {'end': datetime.datetime(2017, 11, 17, 16, 36, 56),\n",
    "  'start': datetime.datetime(2017, 11, 17, 13, 45, 54)},\n",
    " {'end': datetime.datetime(2017, 11, 17, 19, 31, 15),\n",
    "  'start': datetime.datetime(2017, 11, 17, 19, 12, 49)},\n",
    " {'end': datetime.datetime(2017, 11, 18, 10, 55, 45),\n",
    "  'start': datetime.datetime(2017, 11, 18, 10, 49, 6)},\n",
    " {'end': datetime.datetime(2017, 11, 18, 11, 44, 16),\n",
    "  'start': datetime.datetime(2017, 11, 18, 11, 32, 12)},\n",
    " {'end': datetime.datetime(2017, 11, 18, 18, 14, 31),\n",
    "  'start': datetime.datetime(2017, 11, 18, 18, 9, 1)},\n",
    " {'end': datetime.datetime(2017, 11, 18, 19, 1, 29),\n",
    "  'start': datetime.datetime(2017, 11, 18, 18, 53, 10)},\n",
    " {'end': datetime.datetime(2017, 11, 19, 14, 31, 49),\n",
    "  'start': datetime.datetime(2017, 11, 19, 14, 15, 41)},\n",
    " {'end': datetime.datetime(2017, 11, 20, 21, 41, 9),\n",
    "  'start': datetime.datetime(2017, 11, 20, 21, 19, 19)},\n",
    " {'end': datetime.datetime(2017, 11, 20, 23, 23, 37),\n",
    "  'start': datetime.datetime(2017, 11, 20, 22, 39, 48)},\n",
    " {'end': datetime.datetime(2017, 11, 21, 17, 51, 32),\n",
    "  'start': datetime.datetime(2017, 11, 21, 17, 44, 25)},\n",
    " {'end': datetime.datetime(2017, 11, 21, 18, 34, 51),\n",
    "  'start': datetime.datetime(2017, 11, 21, 18, 20, 52)},\n",
    " {'end': datetime.datetime(2017, 11, 21, 18, 51, 50),\n",
    "  'start': datetime.datetime(2017, 11, 21, 18, 47, 32)},\n",
    " {'end': datetime.datetime(2017, 11, 21, 19, 14, 33),\n",
    "  'start': datetime.datetime(2017, 11, 21, 19, 7, 57)},\n",
    " {'end': datetime.datetime(2017, 11, 21, 20, 8, 54),\n",
    "  'start': datetime.datetime(2017, 11, 21, 20, 4, 56)},\n",
    " {'end': datetime.datetime(2017, 11, 21, 22, 8, 12),\n",
    "  'start': datetime.datetime(2017, 11, 21, 21, 55, 47)},\n",
    " {'end': datetime.datetime(2017, 11, 23, 23, 57, 56),\n",
    "  'start': datetime.datetime(2017, 11, 23, 23, 47, 43)},\n",
    " {'end': datetime.datetime(2017, 11, 24, 6, 53, 15),\n",
    "  'start': datetime.datetime(2017, 11, 24, 6, 41, 25)},\n",
    " {'end': datetime.datetime(2017, 11, 24, 7, 33, 24),\n",
    "  'start': datetime.datetime(2017, 11, 24, 6, 58, 56)},\n",
    " {'end': datetime.datetime(2017, 11, 26, 12, 41, 36),\n",
    "  'start': datetime.datetime(2017, 11, 26, 12, 25, 49)},\n",
    " {'end': datetime.datetime(2017, 11, 27, 5, 54, 13),\n",
    "  'start': datetime.datetime(2017, 11, 27, 5, 29, 4)},\n",
    " {'end': datetime.datetime(2017, 11, 27, 6, 11, 1),\n",
    "  'start': datetime.datetime(2017, 11, 27, 6, 6, 47)},\n",
    " {'end': datetime.datetime(2017, 11, 27, 6, 55, 39),\n",
    "  'start': datetime.datetime(2017, 11, 27, 6, 45, 14)},\n",
    " {'end': datetime.datetime(2017, 11, 27, 9, 47, 43),\n",
    "  'start': datetime.datetime(2017, 11, 27, 9, 39, 44)},\n",
    " {'end': datetime.datetime(2017, 11, 27, 11, 20, 46),\n",
    "  'start': datetime.datetime(2017, 11, 27, 11, 9, 18)},\n",
    " {'end': datetime.datetime(2017, 11, 27, 11, 35, 44),\n",
    "  'start': datetime.datetime(2017, 11, 27, 11, 31, 46)},\n",
    " {'end': datetime.datetime(2017, 11, 27, 12, 12, 36),\n",
    "  'start': datetime.datetime(2017, 11, 27, 12, 7, 14)},\n",
    " {'end': datetime.datetime(2017, 11, 27, 12, 26, 44),\n",
    "  'start': datetime.datetime(2017, 11, 27, 12, 21, 40)},\n",
    " {'end': datetime.datetime(2017, 11, 27, 17, 36, 7),\n",
    "  'start': datetime.datetime(2017, 11, 27, 17, 26, 31)},\n",
    " {'end': datetime.datetime(2017, 11, 27, 18, 29, 4),\n",
    "  'start': datetime.datetime(2017, 11, 27, 18, 11, 49)},\n",
    " {'end': datetime.datetime(2017, 11, 27, 19, 47, 17),\n",
    "  'start': datetime.datetime(2017, 11, 27, 19, 36, 16)},\n",
    " {'end': datetime.datetime(2017, 11, 27, 20, 17, 33),\n",
    "  'start': datetime.datetime(2017, 11, 27, 20, 12, 57)},\n",
    " {'end': datetime.datetime(2017, 11, 28, 8, 41, 53),\n",
    "  'start': datetime.datetime(2017, 11, 28, 8, 18, 6)},\n",
    " {'end': datetime.datetime(2017, 11, 28, 19, 34, 1),\n",
    "  'start': datetime.datetime(2017, 11, 28, 19, 17, 23)},\n",
    " {'end': datetime.datetime(2017, 11, 28, 19, 46, 24),\n",
    "  'start': datetime.datetime(2017, 11, 28, 19, 34, 15)},\n",
    " {'end': datetime.datetime(2017, 11, 28, 21, 39, 32),\n",
    "  'start': datetime.datetime(2017, 11, 28, 21, 27, 29)},\n",
    " {'end': datetime.datetime(2017, 11, 29, 7, 51, 18),\n",
    "  'start': datetime.datetime(2017, 11, 29, 7, 47, 38)},\n",
    " {'end': datetime.datetime(2017, 11, 29, 9, 53, 44),\n",
    "  'start': datetime.datetime(2017, 11, 29, 9, 50, 12)},\n",
    " {'end': datetime.datetime(2017, 11, 29, 17, 16, 21),\n",
    "  'start': datetime.datetime(2017, 11, 29, 17, 3, 42)},\n",
    " {'end': datetime.datetime(2017, 11, 29, 18, 23, 43),\n",
    "  'start': datetime.datetime(2017, 11, 29, 18, 19, 15)},\n",
    " {'end': datetime.datetime(2017, 12, 1, 17, 10, 12),\n",
    "  'start': datetime.datetime(2017, 12, 1, 17, 3, 58)},\n",
    " {'end': datetime.datetime(2017, 12, 2, 8, 1, 1),\n",
    "  'start': datetime.datetime(2017, 12, 2, 7, 55, 56)},\n",
    " {'end': datetime.datetime(2017, 12, 2, 9, 21, 18),\n",
    "  'start': datetime.datetime(2017, 12, 2, 9, 16, 14)},\n",
    " {'end': datetime.datetime(2017, 12, 2, 19, 53, 18),\n",
    "  'start': datetime.datetime(2017, 12, 2, 19, 48, 29)},\n",
    " {'end': datetime.datetime(2017, 12, 3, 15, 20, 9),\n",
    "  'start': datetime.datetime(2017, 12, 3, 14, 36, 29)},\n",
    " {'end': datetime.datetime(2017, 12, 3, 16, 25, 30),\n",
    "  'start': datetime.datetime(2017, 12, 3, 16, 4, 2)},\n",
    " {'end': datetime.datetime(2017, 12, 3, 16, 43, 58),\n",
    "  'start': datetime.datetime(2017, 12, 3, 16, 40, 26)},\n",
    " {'end': datetime.datetime(2017, 12, 3, 18, 4, 33),\n",
    "  'start': datetime.datetime(2017, 12, 3, 17, 20, 17)},\n",
    " {'end': datetime.datetime(2017, 12, 4, 8, 51),\n",
    "  'start': datetime.datetime(2017, 12, 4, 8, 34, 24)},\n",
    " {'end': datetime.datetime(2017, 12, 4, 17, 53, 57),\n",
    "  'start': datetime.datetime(2017, 12, 4, 17, 49, 26)},\n",
    " {'end': datetime.datetime(2017, 12, 4, 18, 50, 33),\n",
    "  'start': datetime.datetime(2017, 12, 4, 18, 38, 52)},\n",
    " {'end': datetime.datetime(2017, 12, 4, 21, 46, 58),\n",
    "  'start': datetime.datetime(2017, 12, 4, 21, 39, 20)},\n",
    " {'end': datetime.datetime(2017, 12, 4, 21, 56, 17),\n",
    "  'start': datetime.datetime(2017, 12, 4, 21, 54, 21)},\n",
    " {'end': datetime.datetime(2017, 12, 5, 8, 52, 54),\n",
    "  'start': datetime.datetime(2017, 12, 5, 8, 50, 50)},\n",
    " {'end': datetime.datetime(2017, 12, 6, 8, 24, 14),\n",
    "  'start': datetime.datetime(2017, 12, 6, 8, 19, 38)},\n",
    " {'end': datetime.datetime(2017, 12, 6, 18, 28, 11),\n",
    "  'start': datetime.datetime(2017, 12, 6, 18, 19, 19)},\n",
    " {'end': datetime.datetime(2017, 12, 6, 18, 33, 12),\n",
    "  'start': datetime.datetime(2017, 12, 6, 18, 28, 55)},\n",
    " {'end': datetime.datetime(2017, 12, 6, 20, 21, 38),\n",
    "  'start': datetime.datetime(2017, 12, 6, 20, 3, 29)},\n",
    " {'end': datetime.datetime(2017, 12, 6, 20, 39, 57),\n",
    "  'start': datetime.datetime(2017, 12, 6, 20, 36, 42)},\n",
    " {'end': datetime.datetime(2017, 12, 7, 6, 1, 15),\n",
    "  'start': datetime.datetime(2017, 12, 7, 5, 54, 51)},\n",
    " {'end': datetime.datetime(2017, 12, 8, 16, 55, 49),\n",
    "  'start': datetime.datetime(2017, 12, 8, 16, 47, 18)},\n",
    " {'end': datetime.datetime(2017, 12, 8, 19, 29, 12),\n",
    "  'start': datetime.datetime(2017, 12, 8, 19, 15, 2)},\n",
    " {'end': datetime.datetime(2017, 12, 9, 22, 47, 19),\n",
    "  'start': datetime.datetime(2017, 12, 9, 22, 39, 37)},\n",
    " {'end': datetime.datetime(2017, 12, 9, 23, 5, 32),\n",
    "  'start': datetime.datetime(2017, 12, 9, 23, 0, 10)},\n",
    " {'end': datetime.datetime(2017, 12, 10, 0, 56, 2),\n",
    "  'start': datetime.datetime(2017, 12, 10, 0, 39, 24)},\n",
    " {'end': datetime.datetime(2017, 12, 10, 1, 8, 9),\n",
    "  'start': datetime.datetime(2017, 12, 10, 1, 2, 42)},\n",
    " {'end': datetime.datetime(2017, 12, 10, 1, 11, 30),\n",
    "  'start': datetime.datetime(2017, 12, 10, 1, 8, 57)},\n",
    " {'end': datetime.datetime(2017, 12, 10, 13, 51, 41),\n",
    "  'start': datetime.datetime(2017, 12, 10, 13, 49, 9)},\n",
    " {'end': datetime.datetime(2017, 12, 10, 15, 18, 19),\n",
    "  'start': datetime.datetime(2017, 12, 10, 15, 14, 29)},\n",
    " {'end': datetime.datetime(2017, 12, 10, 15, 36, 28),\n",
    "  'start': datetime.datetime(2017, 12, 10, 15, 31, 7)},\n",
    " {'end': datetime.datetime(2017, 12, 10, 16, 30, 31),\n",
    "  'start': datetime.datetime(2017, 12, 10, 16, 20, 6)},\n",
    " {'end': datetime.datetime(2017, 12, 10, 17, 14, 25),\n",
    "  'start': datetime.datetime(2017, 12, 10, 17, 7, 54)},\n",
    " {'end': datetime.datetime(2017, 12, 10, 17, 45, 25),\n",
    "  'start': datetime.datetime(2017, 12, 10, 17, 23, 47)},\n",
    " {'end': datetime.datetime(2017, 12, 11, 6, 34, 4),\n",
    "  'start': datetime.datetime(2017, 12, 11, 6, 17, 6)},\n",
    " {'end': datetime.datetime(2017, 12, 11, 9, 12, 21),\n",
    "  'start': datetime.datetime(2017, 12, 11, 9, 8, 41)},\n",
    " {'end': datetime.datetime(2017, 12, 11, 9, 20, 18),\n",
    "  'start': datetime.datetime(2017, 12, 11, 9, 15, 41)},\n",
    " {'end': datetime.datetime(2017, 12, 12, 8, 59, 34),\n",
    "  'start': datetime.datetime(2017, 12, 12, 8, 55, 53)},\n",
    " {'end': datetime.datetime(2017, 12, 13, 17, 18, 32),\n",
    "  'start': datetime.datetime(2017, 12, 13, 17, 14, 56)},\n",
    " {'end': datetime.datetime(2017, 12, 13, 19, 0, 45),\n",
    "  'start': datetime.datetime(2017, 12, 13, 18, 52, 16)},\n",
    " {'end': datetime.datetime(2017, 12, 14, 9, 11, 6),\n",
    "  'start': datetime.datetime(2017, 12, 14, 9, 1, 10)},\n",
    " {'end': datetime.datetime(2017, 12, 14, 9, 19, 6),\n",
    "  'start': datetime.datetime(2017, 12, 14, 9, 12, 59)},\n",
    " {'end': datetime.datetime(2017, 12, 14, 12, 2),\n",
    "  'start': datetime.datetime(2017, 12, 14, 11, 54, 33)},\n",
    " {'end': datetime.datetime(2017, 12, 14, 14, 44, 40),\n",
    "  'start': datetime.datetime(2017, 12, 14, 14, 40, 23)},\n",
    " {'end': datetime.datetime(2017, 12, 14, 15, 26, 24),\n",
    "  'start': datetime.datetime(2017, 12, 14, 15, 8, 55)},\n",
    " {'end': datetime.datetime(2017, 12, 14, 18, 9, 4),\n",
    "  'start': datetime.datetime(2017, 12, 14, 17, 46, 17)},\n",
    " {'end': datetime.datetime(2017, 12, 15, 9, 23, 45),\n",
    "  'start': datetime.datetime(2017, 12, 15, 9, 8, 12)},\n",
    " {'end': datetime.datetime(2017, 12, 16, 9, 36, 17),\n",
    "  'start': datetime.datetime(2017, 12, 16, 9, 33, 46)},\n",
    " {'end': datetime.datetime(2017, 12, 16, 11, 5, 4),\n",
    "  'start': datetime.datetime(2017, 12, 16, 11, 2, 31)},\n",
    " {'end': datetime.datetime(2017, 12, 17, 10, 32, 3),\n",
    "  'start': datetime.datetime(2017, 12, 17, 10, 9, 47)},\n",
    " {'end': datetime.datetime(2017, 12, 18, 8, 7, 34),\n",
    "  'start': datetime.datetime(2017, 12, 18, 8, 2, 36)},\n",
    " {'end': datetime.datetime(2017, 12, 18, 16, 9, 20),\n",
    "  'start': datetime.datetime(2017, 12, 18, 16, 3)},\n",
    " {'end': datetime.datetime(2017, 12, 18, 16, 53, 12),\n",
    "  'start': datetime.datetime(2017, 12, 18, 16, 30, 7)},\n",
    " {'end': datetime.datetime(2017, 12, 18, 19, 22, 8),\n",
    "  'start': datetime.datetime(2017, 12, 18, 19, 18, 23)},\n",
    " {'end': datetime.datetime(2017, 12, 18, 20, 17, 47),\n",
    "  'start': datetime.datetime(2017, 12, 18, 20, 14, 46)},\n",
    " {'end': datetime.datetime(2017, 12, 19, 19, 23, 49),\n",
    "  'start': datetime.datetime(2017, 12, 19, 19, 14, 8)},\n",
    " {'end': datetime.datetime(2017, 12, 19, 19, 43, 46),\n",
    "  'start': datetime.datetime(2017, 12, 19, 19, 39, 36)},\n",
    " {'end': datetime.datetime(2017, 12, 20, 8, 10, 46),\n",
    "  'start': datetime.datetime(2017, 12, 20, 8, 5, 14)},\n",
    " {'end': datetime.datetime(2017, 12, 20, 8, 29, 50),\n",
    "  'start': datetime.datetime(2017, 12, 20, 8, 15, 45)},\n",
    " {'end': datetime.datetime(2017, 12, 20, 8, 38, 9),\n",
    "  'start': datetime.datetime(2017, 12, 20, 8, 33, 32)},\n",
    " {'end': datetime.datetime(2017, 12, 20, 13, 54, 39),\n",
    "  'start': datetime.datetime(2017, 12, 20, 13, 43, 36)},\n",
    " {'end': datetime.datetime(2017, 12, 20, 19, 6, 54),\n",
    "  'start': datetime.datetime(2017, 12, 20, 18, 57, 53)},\n",
    " {'end': datetime.datetime(2017, 12, 21, 7, 32, 3),\n",
    "  'start': datetime.datetime(2017, 12, 21, 7, 21, 11)},\n",
    " {'end': datetime.datetime(2017, 12, 21, 8, 6, 15),\n",
    "  'start': datetime.datetime(2017, 12, 21, 8, 1, 58)},\n",
    " {'end': datetime.datetime(2017, 12, 21, 13, 33, 49),\n",
    "  'start': datetime.datetime(2017, 12, 21, 13, 20, 54)},\n",
    " {'end': datetime.datetime(2017, 12, 21, 15, 34, 27),\n",
    "  'start': datetime.datetime(2017, 12, 21, 15, 26, 8)},\n",
    " {'end': datetime.datetime(2017, 12, 21, 18, 38, 50),\n",
    "  'start': datetime.datetime(2017, 12, 21, 18, 9, 46)},\n",
    " {'end': datetime.datetime(2017, 12, 22, 16, 21, 46),\n",
    "  'start': datetime.datetime(2017, 12, 22, 16, 14, 21)},\n",
    " {'end': datetime.datetime(2017, 12, 22, 16, 34, 14),\n",
    "  'start': datetime.datetime(2017, 12, 22, 16, 29, 17)},\n",
    " {'end': datetime.datetime(2017, 12, 25, 13, 18, 27),\n",
    "  'start': datetime.datetime(2017, 12, 25, 12, 49, 51)},\n",
    " {'end': datetime.datetime(2017, 12, 25, 14, 20, 50),\n",
    "  'start': datetime.datetime(2017, 12, 25, 13, 46, 44)},\n",
    " {'end': datetime.datetime(2017, 12, 26, 10, 53, 45),\n",
    "  'start': datetime.datetime(2017, 12, 26, 10, 40, 16)},\n",
    " {'end': datetime.datetime(2017, 12, 27, 17, 17, 39),\n",
    "  'start': datetime.datetime(2017, 12, 27, 16, 56, 12)},\n",
    " {'end': datetime.datetime(2017, 12, 29, 6, 12, 30),\n",
    "  'start': datetime.datetime(2017, 12, 29, 6, 2, 34)},\n",
    " {'end': datetime.datetime(2017, 12, 29, 12, 46, 16),\n",
    "  'start': datetime.datetime(2017, 12, 29, 12, 21, 3)},\n",
    " {'end': datetime.datetime(2017, 12, 29, 14, 43, 46),\n",
    "  'start': datetime.datetime(2017, 12, 29, 14, 32, 55)},\n",
    " {'end': datetime.datetime(2017, 12, 29, 15, 18, 51),\n",
    "  'start': datetime.datetime(2017, 12, 29, 15, 8, 26)},\n",
    " {'end': datetime.datetime(2017, 12, 29, 20, 38, 13),\n",
    "  'start': datetime.datetime(2017, 12, 29, 20, 33, 34)},\n",
    " {'end': datetime.datetime(2017, 12, 30, 13, 54, 33),\n",
    "  'start': datetime.datetime(2017, 12, 30, 13, 51, 3)},\n",
    " {'end': datetime.datetime(2017, 12, 30, 15, 19, 13),\n",
    "  'start': datetime.datetime(2017, 12, 30, 15, 9, 3)}]"
   ]
  },
  {
   "cell_type": "code",
   "execution_count": 50,
   "metadata": {},
   "outputs": [
    {
     "name": "stdout",
     "output_type": "stream",
     "text": [
      "{'AM': 94, 'PM': 196}\n"
     ]
    }
   ],
   "source": [
    "trip_counts = {'AM': 0, 'PM': 0}\n",
    "  \n",
    "for trip in datetimes:\n",
    "    if trip['start'].hour < 12:\n",
    "        trip_counts['AM'] += 1\n",
    "    else:\n",
    "        trip_counts['PM'] += 1\n",
    "\n",
    "print(trip_counts)"
   ]
  },
  {
   "cell_type": "markdown",
   "metadata": {},
   "source": [
    "#### Datetimes to strings"
   ]
  },
  {
   "cell_type": "code",
   "execution_count": 64,
   "metadata": {},
   "outputs": [
    {
     "name": "stdout",
     "output_type": "stream",
     "text": [
      "2017-12-30 15:19:13\n",
      "15:19:13 on 30/12/2017 \n",
      "<class 'str'>\n"
     ]
    }
   ],
   "source": [
    "from datetime import datetime\n",
    "\n",
    "dt = datetime(2017, 12,30,15,19,13)\n",
    "print(dt.strftime(\"%Y-%m-%d %H:%M:%S\"))\n",
    "print(dt.strftime(\"%H:%M:%S on %d/%m/%Y \"))\n",
    "print(type(dt.strftime(\"%Y-%m-%d %H:%M:%S\")))"
   ]
  },
  {
   "cell_type": "markdown",
   "metadata": {},
   "source": [
    "#### Strings to datetimes"
   ]
  },
  {
   "cell_type": "code",
   "execution_count": 60,
   "metadata": {},
   "outputs": [
    {
     "name": "stdout",
     "output_type": "stream",
     "text": [
      "<class 'datetime.datetime'>\n",
      "2017-12-30 15:19:13\n"
     ]
    }
   ],
   "source": [
    "from datetime import datetime\n",
    "\n",
    "dt = datetime.strptime(\"12/30/2017 15:19:13\", \"%m/%d/%Y %H:%M:%S\")\n",
    "print(type(dt))\n",
    "print(dt)"
   ]
  },
  {
   "cell_type": "code",
   "execution_count": 61,
   "metadata": {},
   "outputs": [
    {
     "ename": "ValueError",
     "evalue": "unconverted data remains:  15:19:13",
     "output_type": "error",
     "traceback": [
      "\u001b[1;31m---------------------------------------------------------------------------\u001b[0m",
      "\u001b[1;31mValueError\u001b[0m                                Traceback (most recent call last)",
      "\u001b[1;32m<ipython-input-61-c7c80dc52b0a>\u001b[0m in \u001b[0;36m<module>\u001b[1;34m\u001b[0m\n\u001b[1;32m----> 1\u001b[1;33m \u001b[0mdt\u001b[0m \u001b[1;33m=\u001b[0m \u001b[0mdatetime\u001b[0m\u001b[1;33m.\u001b[0m\u001b[0mstrptime\u001b[0m\u001b[1;33m(\u001b[0m\u001b[1;34m\"12/30/2017 15:19:13\"\u001b[0m\u001b[1;33m,\u001b[0m \u001b[1;34m\"%m/%d/%Y\"\u001b[0m\u001b[1;33m)\u001b[0m\u001b[1;33m\u001b[0m\u001b[1;33m\u001b[0m\u001b[0m\n\u001b[0m",
      "\u001b[1;32m~\\Anaconda\\lib\\_strptime.py\u001b[0m in \u001b[0;36m_strptime_datetime\u001b[1;34m(cls, data_string, format)\u001b[0m\n\u001b[0;32m    575\u001b[0m     \"\"\"Return a class cls instance based on the input string and the\n\u001b[0;32m    576\u001b[0m     format string.\"\"\"\n\u001b[1;32m--> 577\u001b[1;33m     \u001b[0mtt\u001b[0m\u001b[1;33m,\u001b[0m \u001b[0mfraction\u001b[0m\u001b[1;33m,\u001b[0m \u001b[0mgmtoff_fraction\u001b[0m \u001b[1;33m=\u001b[0m \u001b[0m_strptime\u001b[0m\u001b[1;33m(\u001b[0m\u001b[0mdata_string\u001b[0m\u001b[1;33m,\u001b[0m \u001b[0mformat\u001b[0m\u001b[1;33m)\u001b[0m\u001b[1;33m\u001b[0m\u001b[1;33m\u001b[0m\u001b[0m\n\u001b[0m\u001b[0;32m    578\u001b[0m     \u001b[0mtzname\u001b[0m\u001b[1;33m,\u001b[0m \u001b[0mgmtoff\u001b[0m \u001b[1;33m=\u001b[0m \u001b[0mtt\u001b[0m\u001b[1;33m[\u001b[0m\u001b[1;33m-\u001b[0m\u001b[1;36m2\u001b[0m\u001b[1;33m:\u001b[0m\u001b[1;33m]\u001b[0m\u001b[1;33m\u001b[0m\u001b[1;33m\u001b[0m\u001b[0m\n\u001b[0;32m    579\u001b[0m     \u001b[0margs\u001b[0m \u001b[1;33m=\u001b[0m \u001b[0mtt\u001b[0m\u001b[1;33m[\u001b[0m\u001b[1;33m:\u001b[0m\u001b[1;36m6\u001b[0m\u001b[1;33m]\u001b[0m \u001b[1;33m+\u001b[0m \u001b[1;33m(\u001b[0m\u001b[0mfraction\u001b[0m\u001b[1;33m,\u001b[0m\u001b[1;33m)\u001b[0m\u001b[1;33m\u001b[0m\u001b[1;33m\u001b[0m\u001b[0m\n",
      "\u001b[1;32m~\\Anaconda\\lib\\_strptime.py\u001b[0m in \u001b[0;36m_strptime\u001b[1;34m(data_string, format)\u001b[0m\n\u001b[0;32m    360\u001b[0m     \u001b[1;32mif\u001b[0m \u001b[0mlen\u001b[0m\u001b[1;33m(\u001b[0m\u001b[0mdata_string\u001b[0m\u001b[1;33m)\u001b[0m \u001b[1;33m!=\u001b[0m \u001b[0mfound\u001b[0m\u001b[1;33m.\u001b[0m\u001b[0mend\u001b[0m\u001b[1;33m(\u001b[0m\u001b[1;33m)\u001b[0m\u001b[1;33m:\u001b[0m\u001b[1;33m\u001b[0m\u001b[1;33m\u001b[0m\u001b[0m\n\u001b[0;32m    361\u001b[0m         raise ValueError(\"unconverted data remains: %s\" %\n\u001b[1;32m--> 362\u001b[1;33m                           data_string[found.end():])\n\u001b[0m\u001b[0;32m    363\u001b[0m \u001b[1;33m\u001b[0m\u001b[0m\n\u001b[0;32m    364\u001b[0m     \u001b[0miso_year\u001b[0m \u001b[1;33m=\u001b[0m \u001b[0myear\u001b[0m \u001b[1;33m=\u001b[0m \u001b[1;32mNone\u001b[0m\u001b[1;33m\u001b[0m\u001b[1;33m\u001b[0m\u001b[0m\n",
      "\u001b[1;31mValueError\u001b[0m: unconverted data remains:  15:19:13"
     ]
    }
   ],
   "source": [
    "#Error\n",
    "dt = datetime.strptime(\"12/30/2017 15:19:13\", \"%m/%d/%Y\")"
   ]
  },
  {
   "cell_type": "markdown",
   "metadata": {},
   "source": [
    "#### Timestamp"
   ]
  },
  {
   "cell_type": "code",
   "execution_count": 62,
   "metadata": {},
   "outputs": [
    {
     "name": "stdout",
     "output_type": "stream",
     "text": [
      "2017-12-30 14:19:13\n"
     ]
    }
   ],
   "source": [
    "ts = 1514665153.0\n",
    "print(datetime.fromtimestamp(ts))"
   ]
  },
  {
   "cell_type": "markdown",
   "metadata": {},
   "source": [
    "**Formats**\n",
    "\n",
    "%Y\t4 digit year (0000-9999)\n",
    "\n",
    "%m\t2 digit month (1-12)\n",
    "\n",
    "%d\t2 digit day (1-31)\n",
    "\n",
    "%H\t2 digit hour (0-23)\n",
    "\n",
    "%M\t2 digit minute (0-59)\n",
    "\n",
    "%S\t2 digit second (0-59)"
   ]
  },
  {
   "cell_type": "code",
   "execution_count": 67,
   "metadata": {},
   "outputs": [
    {
     "name": "stdout",
     "output_type": "stream",
     "text": [
      "2017-02-03 00:00:01\n",
      "2030-10-15 00:00:00\n",
      "1986-12-15 08:00:00\n"
     ]
    }
   ],
   "source": [
    "from datetime import datetime\n",
    "\n",
    "s = '2017-02-03 00:00:01'\n",
    "fmt = '%Y-%m-%d %H:%M:%S'\n",
    "d = datetime.strptime(s, fmt)\n",
    "print(d)\n",
    "\n",
    "s = '2030-10-15'\n",
    "fmt = '%Y-%m-%d'\n",
    "d = datetime.strptime(s, fmt)\n",
    "print(d)\n",
    "\n",
    "s = '12/15/1986 08:00:00'\n",
    "fmt = '%m/%d/%Y %H:%M:%S'\n",
    "d = datetime.strptime(s, fmt)\n",
    "print(d)"
   ]
  },
  {
   "cell_type": "code",
   "execution_count": 68,
   "metadata": {},
   "outputs": [],
   "source": [
    "datetime_strings = [('2017-10-01 15:23:25', '2017-10-01 15:26:26'),\n",
    " ('2017-10-01 15:42:57', '2017-10-01 17:49:59'),\n",
    " ('2017-10-02 06:37:10', '2017-10-02 06:42:53'),\n",
    " ('2017-10-02 08:56:45', '2017-10-02 09:18:03'),\n",
    " ('2017-10-02 18:23:48', '2017-10-02 18:45:05'),\n",
    " ('2017-10-02 18:48:08', '2017-10-02 19:10:54'),\n",
    " ('2017-10-02 19:18:10', '2017-10-02 19:31:45'),\n",
    " ('2017-10-02 19:37:32', '2017-10-02 19:46:37'),\n",
    " ('2017-10-03 08:24:16', '2017-10-03 08:32:27'),\n",
    " ('2017-10-03 18:17:07', '2017-10-03 18:27:46'),\n",
    " ('2017-10-03 19:24:10', '2017-10-03 19:52:08'),\n",
    " ('2017-10-03 20:17:06', '2017-10-03 20:23:52'),\n",
    " ('2017-10-03 20:45:21', '2017-10-03 20:57:10'),\n",
    " ('2017-10-04 07:04:57', '2017-10-04 07:13:31'),\n",
    " ('2017-10-04 07:13:42', '2017-10-04 07:21:54'),\n",
    " ('2017-10-04 14:22:12', '2017-10-04 14:50:00'),\n",
    " ('2017-10-04 15:07:27', '2017-10-04 15:44:49'),\n",
    " ('2017-10-04 15:46:41', '2017-10-04 16:32:33'),\n",
    " ('2017-10-04 16:34:44', '2017-10-04 16:46:59'),\n",
    " ('2017-10-04 17:26:06', '2017-10-04 17:31:36'),\n",
    " ('2017-10-04 17:42:03', '2017-10-04 17:50:41'),\n",
    " ('2017-10-05 07:49:02', '2017-10-05 08:12:55'),\n",
    " ('2017-10-05 08:26:21', '2017-10-05 08:29:45'),\n",
    " ('2017-10-05 08:33:27', '2017-10-05 08:38:31'),\n",
    " ('2017-10-05 16:35:35', '2017-10-05 16:51:52'),\n",
    " ('2017-10-05 17:53:31', '2017-10-05 18:16:50'),\n",
    " ('2017-10-06 08:17:17', '2017-10-06 08:38:01'),\n",
    " ('2017-10-06 11:39:40', '2017-10-06 11:50:38'),\n",
    " ('2017-10-06 12:59:54', '2017-10-06 13:13:14'),\n",
    " ('2017-10-06 13:43:05', '2017-10-06 14:14:56'),\n",
    " ('2017-10-06 14:28:15', '2017-10-06 15:09:26'),\n",
    " ('2017-10-06 15:50:10', '2017-10-06 16:12:34'),\n",
    " ('2017-10-06 16:32:16', '2017-10-06 16:39:31'),\n",
    " ('2017-10-06 16:44:08', '2017-10-06 16:48:39'),\n",
    " ('2017-10-06 16:53:43', '2017-10-06 17:09:03'),\n",
    " ('2017-10-07 11:38:55', '2017-10-07 11:53:06'),\n",
    " ('2017-10-07 14:03:36', '2017-10-07 14:07:05'),\n",
    " ('2017-10-07 14:20:03', '2017-10-07 14:27:36'),\n",
    " ('2017-10-07 14:30:50', '2017-10-07 14:44:51'),\n",
    " ('2017-10-08 00:28:26', '2017-10-08 00:30:48'),\n",
    " ('2017-10-08 11:16:21', '2017-10-08 11:33:24'),\n",
    " ('2017-10-08 12:37:03', '2017-10-08 13:01:29'),\n",
    " ('2017-10-08 13:30:37', '2017-10-08 13:57:53'),\n",
    " ('2017-10-08 14:16:40', '2017-10-08 15:07:19'),\n",
    " ('2017-10-08 15:23:50', '2017-10-08 15:50:01'),\n",
    " ('2017-10-08 15:54:12', '2017-10-08 16:17:42'),\n",
    " ('2017-10-08 16:28:52', '2017-10-08 16:35:18'),\n",
    " ('2017-10-08 23:08:14', '2017-10-08 23:33:41'),\n",
    " ('2017-10-08 23:34:49', '2017-10-08 23:45:11'),\n",
    " ('2017-10-08 23:46:47', '2017-10-09 00:10:57'),\n",
    " ('2017-10-09 00:12:58', '2017-10-09 00:36:40'),\n",
    " ('2017-10-09 00:37:02', '2017-10-09 00:53:33'),\n",
    " ('2017-10-09 01:23:29', '2017-10-09 01:48:13'),\n",
    " ('2017-10-09 01:49:25', '2017-10-09 02:13:35'),\n",
    " ('2017-10-09 02:14:11', '2017-10-09 02:29:40'),\n",
    " ('2017-10-09 13:04:32', '2017-10-09 13:13:25'),\n",
    " ('2017-10-09 14:30:10', '2017-10-09 14:38:55'),\n",
    " ('2017-10-09 15:06:47', '2017-10-09 15:11:30'),\n",
    " ('2017-10-09 16:43:25', '2017-10-09 16:45:38'),\n",
    " ('2017-10-10 15:32:58', '2017-10-10 15:51:24'),\n",
    " ('2017-10-10 16:47:55', '2017-10-10 17:03:47'),\n",
    " ('2017-10-10 17:51:05', '2017-10-10 18:00:18'),\n",
    " ('2017-10-10 18:08:12', '2017-10-10 18:19:11'),\n",
    " ('2017-10-10 19:09:35', '2017-10-10 19:14:32'),\n",
    " ('2017-10-10 19:17:11', '2017-10-10 19:23:08'),\n",
    " ('2017-10-10 19:28:11', '2017-10-10 19:44:40'),\n",
    " ('2017-10-10 19:55:35', '2017-10-10 20:11:54'),\n",
    " ('2017-10-10 22:20:43', '2017-10-10 22:33:23'),\n",
    " ('2017-10-11 04:40:52', '2017-10-11 04:59:22'),\n",
    " ('2017-10-11 06:28:58', '2017-10-11 06:40:13'),\n",
    " ('2017-10-11 16:41:07', '2017-10-11 17:01:14'),\n",
    " ('2017-10-12 08:08:30', '2017-10-12 08:35:03'),\n",
    " ('2017-10-12 08:47:02', '2017-10-12 08:59:50'),\n",
    " ('2017-10-12 13:13:39', '2017-10-12 13:37:45'),\n",
    " ('2017-10-12 13:40:12', '2017-10-12 13:48:17'),\n",
    " ('2017-10-12 13:49:56', '2017-10-12 13:53:16'),\n",
    " ('2017-10-12 14:33:18', '2017-10-12 14:39:57'),\n",
    " ('2017-10-13 15:55:39', '2017-10-13 15:59:41'),\n",
    " ('2017-10-17 17:58:48', '2017-10-17 18:01:38'),\n",
    " ('2017-10-19 20:21:45', '2017-10-19 20:29:15'),\n",
    " ('2017-10-19 21:11:39', '2017-10-19 21:29:37'),\n",
    " ('2017-10-19 21:30:01', '2017-10-19 21:47:23'),\n",
    " ('2017-10-19 21:47:34', '2017-10-19 21:57:07'),\n",
    " ('2017-10-19 21:57:24', '2017-10-19 22:09:52'),\n",
    " ('2017-10-21 12:24:09', '2017-10-21 12:36:24'),\n",
    " ('2017-10-21 12:36:37', '2017-10-21 12:42:13'),\n",
    " ('2017-10-21 13:47:43', '2017-10-22 11:09:36'),\n",
    " ('2017-10-22 13:28:53', '2017-10-22 13:31:44'),\n",
    " ('2017-10-22 13:47:05', '2017-10-22 13:56:33'),\n",
    " ('2017-10-22 14:26:41', '2017-10-22 14:32:39'),\n",
    " ('2017-10-22 14:54:41', '2017-10-22 15:09:58'),\n",
    " ('2017-10-22 16:40:29', '2017-10-22 16:51:40'),\n",
    " ('2017-10-22 17:58:46', '2017-10-22 18:28:37'),\n",
    " ('2017-10-22 18:45:16', '2017-10-22 18:50:34'),\n",
    " ('2017-10-22 18:56:22', '2017-10-22 19:11:10'),\n",
    " ('2017-10-23 10:14:08', '2017-10-23 10:35:32'),\n",
    " ('2017-10-23 11:29:36', '2017-10-23 14:38:34'),\n",
    " ('2017-10-23 15:04:52', '2017-10-23 15:32:58'),\n",
    " ('2017-10-23 15:33:48', '2017-10-23 17:06:47'),\n",
    " ('2017-10-23 17:13:16', '2017-10-23 19:31:26'),\n",
    " ('2017-10-23 19:55:03', '2017-10-23 20:25:53'),\n",
    " ('2017-10-23 21:47:54', '2017-10-23 22:18:04'),\n",
    " ('2017-10-23 22:34:12', '2017-10-23 22:48:42'),\n",
    " ('2017-10-24 06:55:01', '2017-10-24 07:02:17'),\n",
    " ('2017-10-24 14:56:07', '2017-10-24 15:03:16'),\n",
    " ('2017-10-24 15:51:36', '2017-10-24 15:59:50'),\n",
    " ('2017-10-24 16:31:10', '2017-10-24 16:55:09'),\n",
    " ('2017-10-28 14:26:14', '2017-10-28 14:32:34'),\n",
    " ('2017-11-01 09:41:54', '2017-11-01 09:52:23'),\n",
    " ('2017-11-01 20:16:11', '2017-11-01 20:32:13'),\n",
    " ('2017-11-02 19:44:29', '2017-11-02 19:50:56'),\n",
    " ('2017-11-02 20:14:37', '2017-11-02 20:30:29'),\n",
    " ('2017-11-02 21:35:47', '2017-11-02 21:38:57'),\n",
    " ('2017-11-03 09:59:27', '2017-11-03 10:11:46'),\n",
    " ('2017-11-03 10:13:22', '2017-11-03 10:32:02'),\n",
    " ('2017-11-03 10:44:25', '2017-11-03 10:50:34'),\n",
    " ('2017-11-03 16:06:43', '2017-11-03 16:44:38'),\n",
    " ('2017-11-03 16:45:54', '2017-11-03 17:00:27'),\n",
    " ('2017-11-03 17:07:15', '2017-11-03 17:35:05'),\n",
    " ('2017-11-03 17:36:05', '2017-11-03 17:46:48'),\n",
    " ('2017-11-03 17:50:31', '2017-11-03 18:00:03'),\n",
    " ('2017-11-03 19:22:56', '2017-11-03 19:45:51'),\n",
    " ('2017-11-04 13:14:10', '2017-11-04 13:26:15'),\n",
    " ('2017-11-04 14:18:37', '2017-11-04 14:30:05'),\n",
    " ('2017-11-04 14:45:59', '2017-11-04 15:03:20'),\n",
    " ('2017-11-04 15:16:03', '2017-11-04 15:44:30'),\n",
    " ('2017-11-04 16:37:46', '2017-11-04 16:58:22'),\n",
    " ('2017-11-04 17:13:19', '2017-11-04 17:34:50'),\n",
    " ('2017-11-04 18:10:34', '2017-11-04 18:58:44'),\n",
    " ('2017-11-05 01:56:50', '2017-11-05 01:01:04'),\n",
    " ('2017-11-05 08:33:33', '2017-11-05 08:53:46'),\n",
    " ('2017-11-05 08:58:08', '2017-11-05 09:03:39'),\n",
    " ('2017-11-05 11:05:08', '2017-11-05 11:30:05'),\n",
    " ('2017-11-06 08:50:18', '2017-11-06 08:59:05'),\n",
    " ('2017-11-06 09:04:03', '2017-11-06 09:13:47'),\n",
    " ('2017-11-06 16:19:36', '2017-11-06 17:02:55'),\n",
    " ('2017-11-06 17:21:27', '2017-11-06 17:34:06'),\n",
    " ('2017-11-06 17:36:01', '2017-11-06 17:57:32'),\n",
    " ('2017-11-06 17:59:52', '2017-11-06 18:15:08'),\n",
    " ('2017-11-06 18:18:36', '2017-11-06 18:21:17'),\n",
    " ('2017-11-06 19:24:31', '2017-11-06 19:37:57'),\n",
    " ('2017-11-06 19:49:16', '2017-11-06 20:03:14'),\n",
    " ('2017-11-07 07:50:48', '2017-11-07 08:01:32'),\n",
    " ('2017-11-08 13:11:51', '2017-11-08 13:18:05'),\n",
    " ('2017-11-08 21:34:47', '2017-11-08 21:46:05'),\n",
    " ('2017-11-08 22:02:30', '2017-11-08 22:04:47'),\n",
    " ('2017-11-09 07:01:11', '2017-11-09 07:12:10'),\n",
    " ('2017-11-09 08:02:02', '2017-11-09 08:08:28'),\n",
    " ('2017-11-09 08:19:59', '2017-11-09 08:32:24'),\n",
    " ('2017-11-09 08:41:31', '2017-11-09 08:48:59'),\n",
    " ('2017-11-09 09:00:06', '2017-11-09 09:09:24'),\n",
    " ('2017-11-09 09:09:37', '2017-11-09 09:24:25'),\n",
    " ('2017-11-09 13:14:37', '2017-11-09 13:25:39'),\n",
    " ('2017-11-09 15:20:07', '2017-11-09 15:31:10'),\n",
    " ('2017-11-09 18:47:08', '2017-11-09 18:53:10'),\n",
    " ('2017-11-09 23:35:02', '2017-11-09 23:43:35'),\n",
    " ('2017-11-10 07:51:33', '2017-11-10 08:02:28'),\n",
    " ('2017-11-10 08:38:28', '2017-11-10 08:42:09'),\n",
    " ('2017-11-11 18:05:25', '2017-11-11 18:13:14'),\n",
    " ('2017-11-11 19:39:12', '2017-11-11 19:46:22'),\n",
    " ('2017-11-11 21:13:19', '2017-11-11 21:16:31'),\n",
    " ('2017-11-12 09:46:19', '2017-11-12 09:51:43'),\n",
    " ('2017-11-13 13:33:42', '2017-11-13 13:54:15'),\n",
    " ('2017-11-14 08:40:29', '2017-11-14 08:55:52'),\n",
    " ('2017-11-15 06:14:05', '2017-11-15 06:30:06'),\n",
    " ('2017-11-15 08:14:59', '2017-11-15 08:23:44'),\n",
    " ('2017-11-15 10:16:44', '2017-11-15 10:33:41'),\n",
    " ('2017-11-15 10:33:58', '2017-11-15 10:54:14'),\n",
    " ('2017-11-15 11:02:15', '2017-11-15 11:14:42'),\n",
    " ('2017-11-16 09:27:41', '2017-11-16 09:38:49'),\n",
    " ('2017-11-16 09:57:41', '2017-11-16 10:18:00'),\n",
    " ('2017-11-16 17:25:05', '2017-11-16 17:44:47'),\n",
    " ('2017-11-17 13:45:54', '2017-11-17 16:36:56'),\n",
    " ('2017-11-17 19:12:49', '2017-11-17 19:31:15'),\n",
    " ('2017-11-18 10:49:06', '2017-11-18 10:55:45'),\n",
    " ('2017-11-18 11:32:12', '2017-11-18 11:44:16'),\n",
    " ('2017-11-18 18:09:01', '2017-11-18 18:14:31'),\n",
    " ('2017-11-18 18:53:10', '2017-11-18 19:01:29'),\n",
    " ('2017-11-19 14:15:41', '2017-11-19 14:31:49'),\n",
    " ('2017-11-20 21:19:19', '2017-11-20 21:41:09'),\n",
    " ('2017-11-20 22:39:48', '2017-11-20 23:23:37'),\n",
    " ('2017-11-21 17:44:25', '2017-11-21 17:51:32'),\n",
    " ('2017-11-21 18:20:52', '2017-11-21 18:34:51'),\n",
    " ('2017-11-21 18:47:32', '2017-11-21 18:51:50'),\n",
    " ('2017-11-21 19:07:57', '2017-11-21 19:14:33'),\n",
    " ('2017-11-21 20:04:56', '2017-11-21 20:08:54'),\n",
    " ('2017-11-21 21:55:47', '2017-11-21 22:08:12'),\n",
    " ('2017-11-23 23:47:43', '2017-11-23 23:57:56'),\n",
    " ('2017-11-24 06:41:25', '2017-11-24 06:53:15'),\n",
    " ('2017-11-24 06:58:56', '2017-11-24 07:33:24'),\n",
    " ('2017-11-26 12:25:49', '2017-11-26 12:41:36'),\n",
    " ('2017-11-27 05:29:04', '2017-11-27 05:54:13'),\n",
    " ('2017-11-27 06:06:47', '2017-11-27 06:11:01'),\n",
    " ('2017-11-27 06:45:14', '2017-11-27 06:55:39'),\n",
    " ('2017-11-27 09:39:44', '2017-11-27 09:47:43'),\n",
    " ('2017-11-27 11:09:18', '2017-11-27 11:20:46'),\n",
    " ('2017-11-27 11:31:46', '2017-11-27 11:35:44'),\n",
    " ('2017-11-27 12:07:14', '2017-11-27 12:12:36'),\n",
    " ('2017-11-27 12:21:40', '2017-11-27 12:26:44'),\n",
    " ('2017-11-27 17:26:31', '2017-11-27 17:36:07'),\n",
    " ('2017-11-27 18:11:49', '2017-11-27 18:29:04'),\n",
    " ('2017-11-27 19:36:16', '2017-11-27 19:47:17'),\n",
    " ('2017-11-27 20:12:57', '2017-11-27 20:17:33'),\n",
    " ('2017-11-28 08:18:06', '2017-11-28 08:41:53'),\n",
    " ('2017-11-28 19:17:23', '2017-11-28 19:34:01'),\n",
    " ('2017-11-28 19:34:15', '2017-11-28 19:46:24'),\n",
    " ('2017-11-28 21:27:29', '2017-11-28 21:39:32'),\n",
    " ('2017-11-29 07:47:38', '2017-11-29 07:51:18'),\n",
    " ('2017-11-29 09:50:12', '2017-11-29 09:53:44'),\n",
    " ('2017-11-29 17:03:42', '2017-11-29 17:16:21'),\n",
    " ('2017-11-29 18:19:15', '2017-11-29 18:23:43'),\n",
    " ('2017-12-01 17:03:58', '2017-12-01 17:10:12'),\n",
    " ('2017-12-02 07:55:56', '2017-12-02 08:01:01'),\n",
    " ('2017-12-02 09:16:14', '2017-12-02 09:21:18'),\n",
    " ('2017-12-02 19:48:29', '2017-12-02 19:53:18'),\n",
    " ('2017-12-03 14:36:29', '2017-12-03 15:20:09'),\n",
    " ('2017-12-03 16:04:02', '2017-12-03 16:25:30'),\n",
    " ('2017-12-03 16:40:26', '2017-12-03 16:43:58'),\n",
    " ('2017-12-03 17:20:17', '2017-12-03 18:04:33'),\n",
    " ('2017-12-04 08:34:24', '2017-12-04 08:51:00'),\n",
    " ('2017-12-04 17:49:26', '2017-12-04 17:53:57'),\n",
    " ('2017-12-04 18:38:52', '2017-12-04 18:50:33'),\n",
    " ('2017-12-04 21:39:20', '2017-12-04 21:46:58'),\n",
    " ('2017-12-04 21:54:21', '2017-12-04 21:56:17'),\n",
    " ('2017-12-05 08:50:50', '2017-12-05 08:52:54'),\n",
    " ('2017-12-06 08:19:38', '2017-12-06 08:24:14'),\n",
    " ('2017-12-06 18:19:19', '2017-12-06 18:28:11'),\n",
    " ('2017-12-06 18:28:55', '2017-12-06 18:33:12'),\n",
    " ('2017-12-06 20:03:29', '2017-12-06 20:21:38'),\n",
    " ('2017-12-06 20:36:42', '2017-12-06 20:39:57'),\n",
    " ('2017-12-07 05:54:51', '2017-12-07 06:01:15'),\n",
    " ('2017-12-08 16:47:18', '2017-12-08 16:55:49'),\n",
    " ('2017-12-08 19:15:02', '2017-12-08 19:29:12'),\n",
    " ('2017-12-09 22:39:37', '2017-12-09 22:47:19'),\n",
    " ('2017-12-09 23:00:10', '2017-12-09 23:05:32'),\n",
    " ('2017-12-10 00:39:24', '2017-12-10 00:56:02'),\n",
    " ('2017-12-10 01:02:42', '2017-12-10 01:08:09'),\n",
    " ('2017-12-10 01:08:57', '2017-12-10 01:11:30'),\n",
    " ('2017-12-10 13:49:09', '2017-12-10 13:51:41'),\n",
    " ('2017-12-10 15:14:29', '2017-12-10 15:18:19'),\n",
    " ('2017-12-10 15:31:07', '2017-12-10 15:36:28'),\n",
    " ('2017-12-10 16:20:06', '2017-12-10 16:30:31'),\n",
    " ('2017-12-10 17:07:54', '2017-12-10 17:14:25'),\n",
    " ('2017-12-10 17:23:47', '2017-12-10 17:45:25'),\n",
    " ('2017-12-11 06:17:06', '2017-12-11 06:34:04'),\n",
    " ('2017-12-11 09:08:41', '2017-12-11 09:12:21'),\n",
    " ('2017-12-11 09:15:41', '2017-12-11 09:20:18'),\n",
    " ('2017-12-12 08:55:53', '2017-12-12 08:59:34'),\n",
    " ('2017-12-13 17:14:56', '2017-12-13 17:18:32'),\n",
    " ('2017-12-13 18:52:16', '2017-12-13 19:00:45'),\n",
    " ('2017-12-14 09:01:10', '2017-12-14 09:11:06'),\n",
    " ('2017-12-14 09:12:59', '2017-12-14 09:19:06'),\n",
    " ('2017-12-14 11:54:33', '2017-12-14 12:02:00'),\n",
    " ('2017-12-14 14:40:23', '2017-12-14 14:44:40'),\n",
    " ('2017-12-14 15:08:55', '2017-12-14 15:26:24'),\n",
    " ('2017-12-14 17:46:17', '2017-12-14 18:09:04'),\n",
    " ('2017-12-15 09:08:12', '2017-12-15 09:23:45'),\n",
    " ('2017-12-16 09:33:46', '2017-12-16 09:36:17'),\n",
    " ('2017-12-16 11:02:31', '2017-12-16 11:05:04'),\n",
    " ('2017-12-17 10:09:47', '2017-12-17 10:32:03'),\n",
    " ('2017-12-18 08:02:36', '2017-12-18 08:07:34'),\n",
    " ('2017-12-18 16:03:00', '2017-12-18 16:09:20'),\n",
    " ('2017-12-18 16:30:07', '2017-12-18 16:53:12'),\n",
    " ('2017-12-18 19:18:23', '2017-12-18 19:22:08'),\n",
    " ('2017-12-18 20:14:46', '2017-12-18 20:17:47'),\n",
    " ('2017-12-19 19:14:08', '2017-12-19 19:23:49'),\n",
    " ('2017-12-19 19:39:36', '2017-12-19 19:43:46'),\n",
    " ('2017-12-20 08:05:14', '2017-12-20 08:10:46'),\n",
    " ('2017-12-20 08:15:45', '2017-12-20 08:29:50'),\n",
    " ('2017-12-20 08:33:32', '2017-12-20 08:38:09'),\n",
    " ('2017-12-20 13:43:36', '2017-12-20 13:54:39'),\n",
    " ('2017-12-20 18:57:53', '2017-12-20 19:06:54'),\n",
    " ('2017-12-21 07:21:11', '2017-12-21 07:32:03'),\n",
    " ('2017-12-21 08:01:58', '2017-12-21 08:06:15'),\n",
    " ('2017-12-21 13:20:54', '2017-12-21 13:33:49'),\n",
    " ('2017-12-21 15:26:08', '2017-12-21 15:34:27'),\n",
    " ('2017-12-21 18:09:46', '2017-12-21 18:38:50'),\n",
    " ('2017-12-22 16:14:21', '2017-12-22 16:21:46'),\n",
    " ('2017-12-22 16:29:17', '2017-12-22 16:34:14'),\n",
    " ('2017-12-25 12:49:51', '2017-12-25 13:18:27'),\n",
    " ('2017-12-25 13:46:44', '2017-12-25 14:20:50'),\n",
    " ('2017-12-26 10:40:16', '2017-12-26 10:53:45'),\n",
    " ('2017-12-27 16:56:12', '2017-12-27 17:17:39'),\n",
    " ('2017-12-29 06:02:34', '2017-12-29 06:12:30'),\n",
    " ('2017-12-29 12:21:03', '2017-12-29 12:46:16'),\n",
    " ('2017-12-29 14:32:55', '2017-12-29 14:43:46'),\n",
    " ('2017-12-29 15:08:26', '2017-12-29 15:18:51'),\n",
    " ('2017-12-29 20:33:34', '2017-12-29 20:38:13'),\n",
    " ('2017-12-30 13:51:03', '2017-12-30 13:54:33'),\n",
    " ('2017-12-30 15:09:03', '2017-12-30 15:19:13')]"
   ]
  },
  {
   "cell_type": "code",
   "execution_count": 72,
   "metadata": {},
   "outputs": [],
   "source": [
    "fmt = \"%Y-%m-%d %H:%M:%S\"\n",
    "onebike_datetimes = []\n",
    "\n",
    "for start, end in datetime_strings:\n",
    "    trip = {'start': datetime.strptime(start, fmt),\n",
    "          'end': datetime.strptime(end, fmt)}\n",
    "  \n",
    "    onebike_datetimes.append(trip)"
   ]
  },
  {
   "cell_type": "code",
   "execution_count": 73,
   "metadata": {},
   "outputs": [
    {
     "name": "stdout",
     "output_type": "stream",
     "text": [
      "2017-10-01T15:23:25\n",
      "2017-10-01T15:23:25\n"
     ]
    }
   ],
   "source": [
    "from datetime import datetime\n",
    "\n",
    "first_start = onebike_datetimes[0]['start']\n",
    "fmt = \"%Y-%m-%dT%H:%M:%S\"\n",
    "\n",
    "print(first_start.isoformat())\n",
    "print(first_start.strftime(fmt))"
   ]
  },
  {
   "cell_type": "code",
   "execution_count": 75,
   "metadata": {},
   "outputs": [
    {
     "name": "stdout",
     "output_type": "stream",
     "text": [
      "[datetime.datetime(2017, 12, 30, 14, 19, 13), datetime.datetime(2017, 12, 30, 14, 9, 3)]\n"
     ]
    }
   ],
   "source": [
    "from datetime import datetime\n",
    "timestamps = [1514665153, 1514664543]\n",
    "dts = []\n",
    "for ts in timestamps:\n",
    "    dts.append(datetime.fromtimestamp(ts))\n",
    "\n",
    "print(dts)"
   ]
  },
  {
   "cell_type": "markdown",
   "metadata": {},
   "source": [
    "#### Durations"
   ]
  },
  {
   "cell_type": "code",
   "execution_count": 77,
   "metadata": {},
   "outputs": [],
   "source": [
    "onebike_durations = []\n",
    "\n",
    "for trip in onebike_datetimes:\n",
    "    trip_duration = trip['end'] - trip['start']\n",
    "    trip_length_seconds = trip_duration.total_seconds()\n",
    "    \n",
    "    onebike_durations.append(trip_length_seconds)"
   ]
  },
  {
   "cell_type": "code",
   "execution_count": 78,
   "metadata": {},
   "outputs": [
    {
     "data": {
      "text/plain": [
       "[181.0,\n",
       " 7622.0,\n",
       " 343.0,\n",
       " 1278.0,\n",
       " 1277.0,\n",
       " 1366.0,\n",
       " 815.0,\n",
       " 545.0,\n",
       " 491.0,\n",
       " 639.0,\n",
       " 1678.0,\n",
       " 406.0,\n",
       " 709.0,\n",
       " 514.0,\n",
       " 492.0,\n",
       " 1668.0,\n",
       " 2242.0,\n",
       " 2752.0,\n",
       " 735.0,\n",
       " 330.0,\n",
       " 518.0,\n",
       " 1433.0,\n",
       " 204.0,\n",
       " 304.0,\n",
       " 977.0,\n",
       " 1399.0,\n",
       " 1244.0,\n",
       " 658.0,\n",
       " 800.0,\n",
       " 1911.0,\n",
       " 2471.0,\n",
       " 1344.0,\n",
       " 435.0,\n",
       " 271.0,\n",
       " 920.0,\n",
       " 851.0,\n",
       " 209.0,\n",
       " 453.0,\n",
       " 841.0,\n",
       " 142.0,\n",
       " 1023.0,\n",
       " 1466.0,\n",
       " 1636.0,\n",
       " 3039.0,\n",
       " 1571.0,\n",
       " 1410.0,\n",
       " 386.0,\n",
       " 1527.0,\n",
       " 622.0,\n",
       " 1450.0,\n",
       " 1422.0,\n",
       " 991.0,\n",
       " 1484.0,\n",
       " 1450.0,\n",
       " 929.0,\n",
       " 533.0,\n",
       " 525.0,\n",
       " 283.0,\n",
       " 133.0,\n",
       " 1106.0,\n",
       " 952.0,\n",
       " 553.0,\n",
       " 659.0,\n",
       " 297.0,\n",
       " 357.0,\n",
       " 989.0,\n",
       " 979.0,\n",
       " 760.0,\n",
       " 1110.0,\n",
       " 675.0,\n",
       " 1207.0,\n",
       " 1593.0,\n",
       " 768.0,\n",
       " 1446.0,\n",
       " 485.0,\n",
       " 200.0,\n",
       " 399.0,\n",
       " 242.0,\n",
       " 170.0,\n",
       " 450.0,\n",
       " 1078.0,\n",
       " 1042.0,\n",
       " 573.0,\n",
       " 748.0,\n",
       " 735.0,\n",
       " 336.0,\n",
       " 76913.0,\n",
       " 171.0,\n",
       " 568.0,\n",
       " 358.0,\n",
       " 917.0,\n",
       " 671.0,\n",
       " 1791.0,\n",
       " 318.0,\n",
       " 888.0,\n",
       " 1284.0,\n",
       " 11338.0,\n",
       " 1686.0,\n",
       " 5579.0,\n",
       " 8290.0,\n",
       " 1850.0,\n",
       " 1810.0,\n",
       " 870.0,\n",
       " 436.0,\n",
       " 429.0,\n",
       " 494.0,\n",
       " 1439.0,\n",
       " 380.0,\n",
       " 629.0,\n",
       " 962.0,\n",
       " 387.0,\n",
       " 952.0,\n",
       " 190.0,\n",
       " 739.0,\n",
       " 1120.0,\n",
       " 369.0,\n",
       " 2275.0,\n",
       " 873.0,\n",
       " 1670.0,\n",
       " 643.0,\n",
       " 572.0,\n",
       " 1375.0,\n",
       " 725.0,\n",
       " 688.0,\n",
       " 1041.0,\n",
       " 1707.0,\n",
       " 1236.0,\n",
       " 1291.0,\n",
       " 2890.0,\n",
       " -3346.0,\n",
       " 1213.0,\n",
       " 331.0,\n",
       " 1497.0,\n",
       " 527.0,\n",
       " 584.0,\n",
       " 2599.0,\n",
       " 759.0,\n",
       " 1291.0,\n",
       " 916.0,\n",
       " 161.0,\n",
       " 806.0,\n",
       " 838.0,\n",
       " 644.0,\n",
       " 374.0,\n",
       " 678.0,\n",
       " 137.0,\n",
       " 659.0,\n",
       " 386.0,\n",
       " 745.0,\n",
       " 448.0,\n",
       " 558.0,\n",
       " 888.0,\n",
       " 662.0,\n",
       " 663.0,\n",
       " 362.0,\n",
       " 513.0,\n",
       " 655.0,\n",
       " 221.0,\n",
       " 469.0,\n",
       " 430.0,\n",
       " 192.0,\n",
       " 324.0,\n",
       " 1233.0,\n",
       " 923.0,\n",
       " 961.0,\n",
       " 525.0,\n",
       " 1017.0,\n",
       " 1216.0,\n",
       " 747.0,\n",
       " 668.0,\n",
       " 1219.0,\n",
       " 1182.0,\n",
       " 10262.0,\n",
       " 1106.0,\n",
       " 399.0,\n",
       " 724.0,\n",
       " 330.0,\n",
       " 499.0,\n",
       " 968.0,\n",
       " 1310.0,\n",
       " 2629.0,\n",
       " 427.0,\n",
       " 839.0,\n",
       " 258.0,\n",
       " 396.0,\n",
       " 238.0,\n",
       " 745.0,\n",
       " 613.0,\n",
       " 710.0,\n",
       " 2068.0,\n",
       " 947.0,\n",
       " 1509.0,\n",
       " 254.0,\n",
       " 625.0,\n",
       " 479.0,\n",
       " 688.0,\n",
       " 238.0,\n",
       " 322.0,\n",
       " 304.0,\n",
       " 576.0,\n",
       " 1035.0,\n",
       " 661.0,\n",
       " 276.0,\n",
       " 1427.0,\n",
       " 998.0,\n",
       " 729.0,\n",
       " 723.0,\n",
       " 220.0,\n",
       " 212.0,\n",
       " 759.0,\n",
       " 268.0,\n",
       " 374.0,\n",
       " 305.0,\n",
       " 304.0,\n",
       " 289.0,\n",
       " 2620.0,\n",
       " 1288.0,\n",
       " 212.0,\n",
       " 2656.0,\n",
       " 996.0,\n",
       " 271.0,\n",
       " 701.0,\n",
       " 458.0,\n",
       " 116.0,\n",
       " 124.0,\n",
       " 276.0,\n",
       " 532.0,\n",
       " 257.0,\n",
       " 1089.0,\n",
       " 195.0,\n",
       " 384.0,\n",
       " 511.0,\n",
       " 850.0,\n",
       " 462.0,\n",
       " 322.0,\n",
       " 998.0,\n",
       " 327.0,\n",
       " 153.0,\n",
       " 152.0,\n",
       " 230.0,\n",
       " 321.0,\n",
       " 625.0,\n",
       " 391.0,\n",
       " 1298.0,\n",
       " 1018.0,\n",
       " 220.0,\n",
       " 277.0,\n",
       " 221.0,\n",
       " 216.0,\n",
       " 509.0,\n",
       " 596.0,\n",
       " 367.0,\n",
       " 447.0,\n",
       " 257.0,\n",
       " 1049.0,\n",
       " 1367.0,\n",
       " 933.0,\n",
       " 151.0,\n",
       " 153.0,\n",
       " 1336.0,\n",
       " 298.0,\n",
       " 380.0,\n",
       " 1385.0,\n",
       " 225.0,\n",
       " 181.0,\n",
       " 581.0,\n",
       " 250.0,\n",
       " 332.0,\n",
       " 845.0,\n",
       " 277.0,\n",
       " 663.0,\n",
       " 541.0,\n",
       " 652.0,\n",
       " 257.0,\n",
       " 775.0,\n",
       " 499.0,\n",
       " 1744.0,\n",
       " 445.0,\n",
       " 297.0,\n",
       " 1716.0,\n",
       " 2046.0,\n",
       " 809.0,\n",
       " 1287.0,\n",
       " 596.0,\n",
       " 1513.0,\n",
       " 651.0,\n",
       " 625.0,\n",
       " 279.0,\n",
       " 210.0,\n",
       " 610.0]"
      ]
     },
     "execution_count": 78,
     "metadata": {},
     "output_type": "execute_result"
    }
   ],
   "source": [
    "onebike_durations"
   ]
  },
  {
   "cell_type": "code",
   "execution_count": 79,
   "metadata": {},
   "outputs": [
    {
     "name": "stdout",
     "output_type": "stream",
     "text": [
      "1178.9310344827586\n"
     ]
    }
   ],
   "source": [
    "total_elapsed_time = sum(onebike_durations)\n",
    "number_of_trips = len(onebike_durations)\n",
    "print(total_elapsed_time / number_of_trips)"
   ]
  },
  {
   "cell_type": "code",
   "execution_count": 80,
   "metadata": {},
   "outputs": [],
   "source": [
    "from datetime import timedelta"
   ]
  },
  {
   "cell_type": "code",
   "execution_count": 85,
   "metadata": {},
   "outputs": [
    {
     "name": "stdout",
     "output_type": "stream",
     "text": [
      "2017-10-08 23:46:47\n"
     ]
    }
   ],
   "source": [
    "start = datetime(2017,10,8,23,46,47)\n",
    "end = datetime(2017,10,9,0,10,57)\n",
    "print(start)"
   ]
  },
  {
   "cell_type": "code",
   "execution_count": 83,
   "metadata": {},
   "outputs": [
    {
     "name": "stdout",
     "output_type": "stream",
     "text": [
      "2017-10-08 23:46:48\n"
     ]
    }
   ],
   "source": [
    "delta1 = timedelta(seconds = 1)\n",
    "print(start+delta1)"
   ]
  },
  {
   "cell_type": "code",
   "execution_count": 84,
   "metadata": {},
   "outputs": [
    {
     "name": "stdout",
     "output_type": "stream",
     "text": [
      "2017-10-09 23:46:48\n"
     ]
    }
   ],
   "source": [
    "delta2 = timedelta(days=1, seconds = 1)\n",
    "print(start+delta2)"
   ]
  },
  {
   "cell_type": "code",
   "execution_count": 86,
   "metadata": {},
   "outputs": [
    {
     "name": "stdout",
     "output_type": "stream",
     "text": [
      "2017-10-01 23:46:47\n"
     ]
    }
   ],
   "source": [
    "delta3 = timedelta(weeks=1)\n",
    "print(start-delta3)"
   ]
  },
  {
   "cell_type": "code",
   "execution_count": 87,
   "metadata": {},
   "outputs": [
    {
     "name": "stdout",
     "output_type": "stream",
     "text": [
      "2017-10-01 23:46:47\n"
     ]
    }
   ],
   "source": [
    "delta4 = timedelta(weeks=-1)\n",
    "print(start+delta4)"
   ]
  },
  {
   "cell_type": "markdown",
   "metadata": {},
   "source": [
    "## Time zones"
   ]
  },
  {
   "cell_type": "code",
   "execution_count": 88,
   "metadata": {},
   "outputs": [],
   "source": [
    "from datetime import datetime, timedelta, timezone"
   ]
  },
  {
   "cell_type": "code",
   "execution_count": 90,
   "metadata": {},
   "outputs": [],
   "source": [
    "#Eastern Standard\n",
    "ET = timezone(timedelta(hours = -5))"
   ]
  },
  {
   "cell_type": "code",
   "execution_count": 91,
   "metadata": {},
   "outputs": [],
   "source": [
    "dt = datetime(2017,12,30,15,9,2, tzinfo=ET)"
   ]
  },
  {
   "cell_type": "code",
   "execution_count": 93,
   "metadata": {},
   "outputs": [
    {
     "name": "stdout",
     "output_type": "stream",
     "text": [
      "2017-12-31 01:39:02+05:30\n"
     ]
    }
   ],
   "source": [
    "#India Standard\n",
    "IST = timezone(timedelta(hours = 5, minutes = 30))\n",
    "print(dt.astimezone(IST))"
   ]
  },
  {
   "cell_type": "code",
   "execution_count": 94,
   "metadata": {},
   "outputs": [
    {
     "name": "stdout",
     "output_type": "stream",
     "text": [
      "2017-12-30 15:09:02-05:00\n"
     ]
    }
   ],
   "source": [
    "print(dt)"
   ]
  },
  {
   "cell_type": "code",
   "execution_count": 95,
   "metadata": {},
   "outputs": [
    {
     "name": "stdout",
     "output_type": "stream",
     "text": [
      "2017-12-30 15:09:02+00:00\n"
     ]
    }
   ],
   "source": [
    "print(dt.replace(tzinfo=timezone.utc))"
   ]
  },
  {
   "cell_type": "code",
   "execution_count": 96,
   "metadata": {},
   "outputs": [
    {
     "name": "stdout",
     "output_type": "stream",
     "text": [
      "2017-12-30 20:09:02+00:00\n"
     ]
    }
   ],
   "source": [
    "print(dt.astimezone(timezone.utc))"
   ]
  },
  {
   "cell_type": "code",
   "execution_count": 97,
   "metadata": {},
   "outputs": [
    {
     "name": "stdout",
     "output_type": "stream",
     "text": [
      "2017-10-01T15:26:26+00:00\n"
     ]
    }
   ],
   "source": [
    "dt = datetime(2017, 10, 1, 15, 26, 26, tzinfo=timezone.utc)\n",
    "print(dt.isoformat())"
   ]
  },
  {
   "cell_type": "code",
   "execution_count": 98,
   "metadata": {},
   "outputs": [
    {
     "name": "stdout",
     "output_type": "stream",
     "text": [
      "2017-10-01T15:26:26-08:00\n"
     ]
    }
   ],
   "source": [
    "# Create a timezone for Pacific Standard Time, or UTC-8\n",
    "pst = timezone(timedelta(hours=-8))\n",
    "dt = datetime(2017, 10, 1, 15, 26, 26, tzinfo=pst)\n",
    "print(dt.isoformat())"
   ]
  },
  {
   "cell_type": "code",
   "execution_count": 99,
   "metadata": {},
   "outputs": [
    {
     "name": "stdout",
     "output_type": "stream",
     "text": [
      "2017-10-01T15:26:26+11:00\n"
     ]
    }
   ],
   "source": [
    "# Create a timezone for Australian Eastern Daylight Time, or UTC+11\n",
    "aedt = timezone(timedelta(hours = 11))\n",
    "dt = datetime(2017, 10, 1, 15, 26, 26, tzinfo=aedt)\n",
    "print(dt.isoformat())"
   ]
  },
  {
   "cell_type": "code",
   "execution_count": 100,
   "metadata": {},
   "outputs": [],
   "source": [
    "#Setting timezones\n",
    "edt = timezone(timedelta(hours = -4))\n",
    "for trip in onebike_datetimes[:10]:\n",
    "    trip['start'] = trip['start'].replace(tzinfo=edt)\n",
    "    trip['end'] = trip['end'].replace(tzinfo=edt)"
   ]
  },
  {
   "cell_type": "code",
   "execution_count": 101,
   "metadata": {},
   "outputs": [
    {
     "name": "stdout",
     "output_type": "stream",
     "text": [
      "Original: 2017-10-01 15:23:25-04:00 | UTC: 2017-10-01T19:23:25+00:00\n",
      "Original: 2017-10-01 15:42:57-04:00 | UTC: 2017-10-01T19:42:57+00:00\n",
      "Original: 2017-10-02 06:37:10-04:00 | UTC: 2017-10-02T10:37:10+00:00\n",
      "Original: 2017-10-02 08:56:45-04:00 | UTC: 2017-10-02T12:56:45+00:00\n",
      "Original: 2017-10-02 18:23:48-04:00 | UTC: 2017-10-02T22:23:48+00:00\n",
      "Original: 2017-10-02 18:48:08-04:00 | UTC: 2017-10-02T22:48:08+00:00\n",
      "Original: 2017-10-02 19:18:10-04:00 | UTC: 2017-10-02T23:18:10+00:00\n",
      "Original: 2017-10-02 19:37:32-04:00 | UTC: 2017-10-02T23:37:32+00:00\n",
      "Original: 2017-10-03 08:24:16-04:00 | UTC: 2017-10-03T12:24:16+00:00\n",
      "Original: 2017-10-03 18:17:07-04:00 | UTC: 2017-10-03T22:17:07+00:00\n"
     ]
    }
   ],
   "source": [
    "for trip in onebike_datetimes[:10]:\n",
    "    dt = trip['start']\n",
    "    dt = dt.astimezone(timezone.utc)\n",
    "    print('Original:', trip['start'], '| UTC:', dt.isoformat())"
   ]
  },
  {
   "cell_type": "markdown",
   "metadata": {},
   "source": [
    "#### Timezone database"
   ]
  },
  {
   "cell_type": "code",
   "execution_count": 102,
   "metadata": {},
   "outputs": [],
   "source": [
    "from datetime import datetime\n",
    "from dateutil import tz"
   ]
  },
  {
   "cell_type": "code",
   "execution_count": 103,
   "metadata": {},
   "outputs": [],
   "source": [
    "et = tz.gettz('America/New_York') #'Continent/City'\n",
    "#'America/Mexico_City'\n",
    "#'Africa/Accra'\n",
    "#'Europe/London'"
   ]
  },
  {
   "cell_type": "code",
   "execution_count": 105,
   "metadata": {},
   "outputs": [
    {
     "name": "stdout",
     "output_type": "stream",
     "text": [
      "2017-12-30 15:09:03-05:00\n"
     ]
    }
   ],
   "source": [
    "last = datetime(2017,12,30,15,9,3, tzinfo=et)\n",
    "print(last)"
   ]
  },
  {
   "cell_type": "code",
   "execution_count": 107,
   "metadata": {},
   "outputs": [
    {
     "name": "stdout",
     "output_type": "stream",
     "text": [
      "2017-10-01 15:23:25-04:00\n"
     ]
    }
   ],
   "source": [
    "first = datetime(2017,10,1,15,23,25, tzinfo=et)\n",
    "print(first)"
   ]
  },
  {
   "cell_type": "code",
   "execution_count": 108,
   "metadata": {},
   "outputs": [],
   "source": [
    "#Putting the bike trips into the right time zone\n",
    "et = tz.gettz('America/New_York')\n",
    "\n",
    "for trip in onebike_datetimes[:10]:\n",
    "    trip['start'] = trip['start'].replace(tzinfo=et)\n",
    "    trip['end'] = trip['end'].replace(tzinfo=et)"
   ]
  },
  {
   "cell_type": "code",
   "execution_count": 112,
   "metadata": {},
   "outputs": [
    {
     "name": "stdout",
     "output_type": "stream",
     "text": [
      "2017-10-01T15:23:25-04:00\n",
      "2017-10-01T20:23:25+01:00\n",
      "2017-10-01T15:23:25-04:00\n",
      "2017-10-02T00:53:25+05:30\n",
      "2017-10-01T15:23:25-04:00\n",
      "2017-10-02T09:23:25+14:00\n"
     ]
    }
   ],
   "source": [
    "#When you need to move a datetime from one timezone into another, use .astimezone() and tz.\n",
    "\n",
    "uk = tz.gettz('Europe/London')\n",
    "local = onebike_datetimes[0]['start']\n",
    "# What time was it in the UK?\n",
    "notlocal = local.astimezone(tz = uk)\n",
    "\n",
    "print(local.isoformat())\n",
    "print(notlocal.isoformat())\n",
    "\n",
    "\n",
    "\n",
    "\n",
    "ist = tz.gettz('Asia/Kolkata')\n",
    "local = onebike_datetimes[0]['start']\n",
    "# What time was it in India?\n",
    "notlocal = local.astimezone(tz = ist)\n",
    "\n",
    "print(local.isoformat())\n",
    "print(notlocal.isoformat())\n",
    "\n",
    "\n",
    "\n",
    "\n",
    "sm = tz.gettz('Pacific/Apia')\n",
    "local = onebike_datetimes[0]['start']\n",
    "# What time was it in Samoa?\n",
    "notlocal = local.astimezone(tz=sm)\n",
    "\n",
    "print(local.isoformat())\n",
    "print(notlocal.isoformat())"
   ]
  },
  {
   "cell_type": "markdown",
   "metadata": {},
   "source": [
    "## Daylight saving times"
   ]
  },
  {
   "cell_type": "code",
   "execution_count": 122,
   "metadata": {},
   "outputs": [
    {
     "name": "stdout",
     "output_type": "stream",
     "text": [
      "2017-03-12T01:59:59\n",
      "2017-03-12T03:00:00\n",
      "3601.0\n"
     ]
    }
   ],
   "source": [
    "spring_ahead_159am = datetime(2017, 3, 12, 1, 59, 59)\n",
    "print(spring_ahead_159am.isoformat())\n",
    "\n",
    "spring_ahead_3am = datetime(2017, 3, 12, 3, 0, 0)\n",
    "print(spring_ahead_3am.isoformat())\n",
    "\n",
    "print((spring_ahead_3am - spring_ahead_159am).total_seconds())"
   ]
  },
  {
   "cell_type": "code",
   "execution_count": 123,
   "metadata": {},
   "outputs": [
    {
     "name": "stdout",
     "output_type": "stream",
     "text": [
      "2017-03-12T01:59:59-05:00\n",
      "2017-03-12T03:00:00-04:00\n"
     ]
    },
    {
     "data": {
      "text/plain": [
       "1"
      ]
     },
     "execution_count": 123,
     "metadata": {},
     "output_type": "execute_result"
    }
   ],
   "source": [
    "EST = timezone(timedelta(hours = -5)) #Eastern Standard time\n",
    "EDT = timezone(timedelta(hours = -4)) #Eastern Daylight time\n",
    "\n",
    "spring_ahead_159am = spring_ahead_159am.replace(tzinfo=EST)\n",
    "print(spring_ahead_159am.isoformat())\n",
    "\n",
    "\n",
    "spring_ahead_3am = spring_ahead_3am.replace(tzinfo = EDT)\n",
    "print(spring_ahead_3am.isoformat())\n",
    "\n",
    "(spring_ahead_3am-spring_ahead_159am).seconds"
   ]
  },
  {
   "cell_type": "code",
   "execution_count": 124,
   "metadata": {},
   "outputs": [
    {
     "name": "stdout",
     "output_type": "stream",
     "text": [
      "2017-03-12 01:59:59-05:00\n",
      "2017-03-12 03:00:00-04:00\n"
     ]
    }
   ],
   "source": [
    "eastern = tz.gettz('America/New_York')\n",
    "spring_ahead_159am = datetime(2017, 3, 12, 1, 59, 59, tzinfo = eastern)\n",
    "spring_ahead_3am = datetime(2017, 3, 12, 3, 0, 0, tzinfo = eastern)\n",
    "print(spring_ahead_159am)\n",
    "print(spring_ahead_3am)"
   ]
  },
  {
   "cell_type": "markdown",
   "metadata": {},
   "source": [
    "Since our bike data takes place in the fall, you'll have to do something else to learn about the start of daylight savings time.\n",
    "\n",
    "Let's look at March 12, 2017, in the Eastern United States, when Daylight Saving kicked in at 2 AM.\n",
    "\n",
    "If you create a datetime for midnight that night, and add 6 hours to it, how much time will have elapsed?"
   ]
  },
  {
   "cell_type": "code",
   "execution_count": 125,
   "metadata": {},
   "outputs": [
    {
     "name": "stdout",
     "output_type": "stream",
     "text": [
      "2017-03-12T00:00:00-05:00 to 2017-03-12T06:00:00-04:00\n",
      "6.0\n",
      "5.0\n"
     ]
    }
   ],
   "source": [
    "from dateutil import tz\n",
    "\n",
    "# Start on March 12, 2017, midnight, then add 6 hours\n",
    "start = datetime(2017, 3, 12, tzinfo = tz.gettz('America/New_York'))\n",
    "end = start + timedelta(hours=6)\n",
    "print(start.isoformat() + \" to \" + end.isoformat())\n",
    "\n",
    "# How many hours have elapsed?\n",
    "print((end - start).total_seconds()/(60*60))\n",
    "\n",
    "# What if we move to UTC?\n",
    "print((end.astimezone(timezone.utc) - start.astimezone(timezone.utc))\\\n",
    "      .total_seconds()/(60*60))"
   ]
  },
  {
   "cell_type": "markdown",
   "metadata": {},
   "source": [
    "Daylight Saving rules are complicated: they're different in different places, they change over time, and they usually start on a Sunday (and so they move around the calendar).\n",
    "\n",
    "For example, in the United Kingdom, as of the time this lesson was written, Daylight Saving begins on the last Sunday in March. Let's look at the UTC offset for March 29, at midnight, for the years 2000 to 2010."
   ]
  },
  {
   "cell_type": "code",
   "execution_count": 126,
   "metadata": {},
   "outputs": [
    {
     "name": "stdout",
     "output_type": "stream",
     "text": [
      "2000-03-29T00:00:00+01:00\n",
      "2001-03-29T00:00:00+01:00\n",
      "2002-03-29T00:00:00+00:00\n",
      "2003-03-29T00:00:00+00:00\n",
      "2004-03-29T00:00:00+01:00\n",
      "2005-03-29T00:00:00+01:00\n",
      "2006-03-29T00:00:00+01:00\n",
      "2007-03-29T00:00:00+01:00\n",
      "2008-03-29T00:00:00+00:00\n",
      "2009-03-29T00:00:00+00:00\n",
      "2010-03-29T00:00:00+01:00\n"
     ]
    }
   ],
   "source": [
    "dt = datetime(2000, 3, 29, tzinfo = tz.gettz('Europe/London'))\n",
    "\n",
    "for y in range(2000, 2011):\n",
    "    print(dt.replace(year=y).isoformat())"
   ]
  },
  {
   "cell_type": "markdown",
   "metadata": {},
   "source": [
    "#### Ending daylight saving time"
   ]
  },
  {
   "cell_type": "code",
   "execution_count": 127,
   "metadata": {},
   "outputs": [
    {
     "data": {
      "text/plain": [
       "True"
      ]
     },
     "execution_count": 127,
     "metadata": {},
     "output_type": "execute_result"
    }
   ],
   "source": [
    "eastern = tz.gettz('US/Eastern')\n",
    "\n",
    "first_1am = datetime(2017,11,5,1,0,0, tzinfo = eastern)\n",
    "\n",
    "tz.datetime_ambiguous(first_1am)"
   ]
  },
  {
   "cell_type": "code",
   "execution_count": 128,
   "metadata": {},
   "outputs": [],
   "source": [
    "second_2am = datetime(2017,11,5,1,0,0, tzinfo = eastern)\n",
    "second_2am = tz.enfold(second_2am)"
   ]
  },
  {
   "cell_type": "code",
   "execution_count": 129,
   "metadata": {},
   "outputs": [
    {
     "data": {
      "text/plain": [
       "0.0"
      ]
     },
     "execution_count": 129,
     "metadata": {},
     "output_type": "execute_result"
    }
   ],
   "source": [
    "(first_1am-second_2am).total_seconds()"
   ]
  },
  {
   "cell_type": "code",
   "execution_count": 130,
   "metadata": {},
   "outputs": [
    {
     "data": {
      "text/plain": [
       "3600.0"
      ]
     },
     "execution_count": 130,
     "metadata": {},
     "output_type": "execute_result"
    }
   ],
   "source": [
    "first_1am = first_1am.astimezone(tz.UTC)\n",
    "second_2am = second_2am.astimezone(tz.UTC)\n",
    "(second_2am-first_1am).total_seconds()"
   ]
  },
  {
   "cell_type": "markdown",
   "metadata": {},
   "source": [
    "## Dates, times with dataframes"
   ]
  },
  {
   "cell_type": "code",
   "execution_count": 139,
   "metadata": {},
   "outputs": [],
   "source": [
    "import pandas as pd"
   ]
  },
  {
   "cell_type": "code",
   "execution_count": 141,
   "metadata": {},
   "outputs": [
    {
     "data": {
      "text/html": [
       "<div>\n",
       "<style scoped>\n",
       "    .dataframe tbody tr th:only-of-type {\n",
       "        vertical-align: middle;\n",
       "    }\n",
       "\n",
       "    .dataframe tbody tr th {\n",
       "        vertical-align: top;\n",
       "    }\n",
       "\n",
       "    .dataframe thead th {\n",
       "        text-align: right;\n",
       "    }\n",
       "</style>\n",
       "<table border=\"1\" class=\"dataframe\">\n",
       "  <thead>\n",
       "    <tr style=\"text-align: right;\">\n",
       "      <th></th>\n",
       "      <th>Start date</th>\n",
       "      <th>End date</th>\n",
       "      <th>Start station number</th>\n",
       "      <th>Start station</th>\n",
       "      <th>End station number</th>\n",
       "      <th>End station</th>\n",
       "      <th>Bike number</th>\n",
       "      <th>Member type</th>\n",
       "    </tr>\n",
       "  </thead>\n",
       "  <tbody>\n",
       "    <tr>\n",
       "      <th>0</th>\n",
       "      <td>2017-10-01 15:23:25</td>\n",
       "      <td>2017-10-01 15:26:26</td>\n",
       "      <td>31038</td>\n",
       "      <td>Glebe Rd &amp; 11th St N</td>\n",
       "      <td>31036</td>\n",
       "      <td>George Mason Dr &amp; Wilson Blvd</td>\n",
       "      <td>W20529</td>\n",
       "      <td>Member</td>\n",
       "    </tr>\n",
       "    <tr>\n",
       "      <th>1</th>\n",
       "      <td>2017-10-01 15:42:57</td>\n",
       "      <td>2017-10-01 17:49:59</td>\n",
       "      <td>31036</td>\n",
       "      <td>George Mason Dr &amp; Wilson Blvd</td>\n",
       "      <td>31036</td>\n",
       "      <td>George Mason Dr &amp; Wilson Blvd</td>\n",
       "      <td>W20529</td>\n",
       "      <td>Casual</td>\n",
       "    </tr>\n",
       "    <tr>\n",
       "      <th>2</th>\n",
       "      <td>2017-10-02 06:37:10</td>\n",
       "      <td>2017-10-02 06:42:53</td>\n",
       "      <td>31036</td>\n",
       "      <td>George Mason Dr &amp; Wilson Blvd</td>\n",
       "      <td>31037</td>\n",
       "      <td>Ballston Metro / N Stuart &amp; 9th St N</td>\n",
       "      <td>W20529</td>\n",
       "      <td>Member</td>\n",
       "    </tr>\n",
       "  </tbody>\n",
       "</table>\n",
       "</div>"
      ],
      "text/plain": [
       "            Start date             End date  Start station number  \\\n",
       "0  2017-10-01 15:23:25  2017-10-01 15:26:26                 31038   \n",
       "1  2017-10-01 15:42:57  2017-10-01 17:49:59                 31036   \n",
       "2  2017-10-02 06:37:10  2017-10-02 06:42:53                 31036   \n",
       "\n",
       "                   Start station  End station number  \\\n",
       "0           Glebe Rd & 11th St N               31036   \n",
       "1  George Mason Dr & Wilson Blvd               31036   \n",
       "2  George Mason Dr & Wilson Blvd               31037   \n",
       "\n",
       "                            End station Bike number Member type  \n",
       "0         George Mason Dr & Wilson Blvd      W20529      Member  \n",
       "1         George Mason Dr & Wilson Blvd      W20529      Casual  \n",
       "2  Ballston Metro / N Stuart & 9th St N      W20529      Member  "
      ]
     },
     "execution_count": 141,
     "metadata": {},
     "output_type": "execute_result"
    }
   ],
   "source": [
    "rides = pd.read_csv('capital-onebike.csv')\n",
    "rides.head(3)"
   ]
  },
  {
   "cell_type": "code",
   "execution_count": 142,
   "metadata": {},
   "outputs": [
    {
     "data": {
      "text/plain": [
       "0      2017-10-01 15:23:25\n",
       "1      2017-10-01 15:42:57\n",
       "2      2017-10-02 06:37:10\n",
       "3      2017-10-02 08:56:45\n",
       "4      2017-10-02 18:23:48\n",
       "              ...         \n",
       "285    2017-12-29 14:32:55\n",
       "286    2017-12-29 15:08:26\n",
       "287    2017-12-29 20:33:34\n",
       "288    2017-12-30 13:51:03\n",
       "289    2017-12-30 15:09:03\n",
       "Name: Start date, Length: 290, dtype: object"
      ]
     },
     "execution_count": 142,
     "metadata": {},
     "output_type": "execute_result"
    }
   ],
   "source": [
    "rides['Start date']"
   ]
  },
  {
   "cell_type": "code",
   "execution_count": 143,
   "metadata": {},
   "outputs": [],
   "source": [
    "rides = pd.read_csv('capital-onebike.csv', parse_dates = ['Start date', 'End date'])\n",
    "#or \n",
    "rides['Start date'] = pd.to_datetime(rides['Start date'], format = '%Y-%m-%d %H:%M:%S')"
   ]
  },
  {
   "cell_type": "code",
   "execution_count": 144,
   "metadata": {},
   "outputs": [
    {
     "data": {
      "text/plain": [
       "Timestamp('2017-10-02 06:37:10')"
      ]
     },
     "execution_count": 144,
     "metadata": {},
     "output_type": "execute_result"
    }
   ],
   "source": [
    "rides['Start date'].iloc[2]"
   ]
  },
  {
   "cell_type": "code",
   "execution_count": 145,
   "metadata": {},
   "outputs": [
    {
     "data": {
      "text/plain": [
       "0     00:03:01\n",
       "1     02:07:02\n",
       "2     00:05:43\n",
       "3     00:21:18\n",
       "4     00:21:17\n",
       "        ...   \n",
       "285   00:10:51\n",
       "286   00:10:25\n",
       "287   00:04:39\n",
       "288   00:03:30\n",
       "289   00:10:10\n",
       "Name: Duration, Length: 290, dtype: timedelta64[ns]"
      ]
     },
     "execution_count": 145,
     "metadata": {},
     "output_type": "execute_result"
    }
   ],
   "source": [
    "rides['Duration'] = rides['End date'] - rides['Start date']\n",
    "rides['Duration']"
   ]
  },
  {
   "cell_type": "code",
   "execution_count": 146,
   "metadata": {},
   "outputs": [
    {
     "data": {
      "text/plain": [
       "0     181.0\n",
       "1    7622.0\n",
       "2     343.0\n",
       "3    1278.0\n",
       "4    1277.0\n",
       "Name: Duration, dtype: float64"
      ]
     },
     "execution_count": 146,
     "metadata": {},
     "output_type": "execute_result"
    }
   ],
   "source": [
    "rides['Duration'].dt.total_seconds().head(5)"
   ]
  },
  {
   "cell_type": "code",
   "execution_count": 148,
   "metadata": {},
   "outputs": [
    {
     "data": {
      "text/plain": [
       "0.04348417785917786"
      ]
     },
     "execution_count": 148,
     "metadata": {},
     "output_type": "execute_result"
    }
   ],
   "source": [
    "rides['Duration'].sum()/timedelta(days = 91)"
   ]
  },
  {
   "cell_type": "code",
   "execution_count": 149,
   "metadata": {},
   "outputs": [],
   "source": [
    "rides['Duration seconds'] = rides['Duration'].dt.total_seconds()"
   ]
  },
  {
   "cell_type": "code",
   "execution_count": 150,
   "metadata": {},
   "outputs": [
    {
     "data": {
      "text/plain": [
       "Member type\n",
       "Casual    1994.666667\n",
       "Member     992.279661\n",
       "Name: Duration seconds, dtype: float64"
      ]
     },
     "execution_count": 150,
     "metadata": {},
     "output_type": "execute_result"
    }
   ],
   "source": [
    "rides.groupby('Member type')['Duration seconds'].mean()"
   ]
  },
  {
   "cell_type": "code",
   "execution_count": 151,
   "metadata": {},
   "outputs": [
    {
     "data": {
      "text/plain": [
       "Start date\n",
       "2017-10-31    1886.453704\n",
       "2017-11-30     854.174757\n",
       "2017-12-31     635.101266\n",
       "Freq: M, Name: Duration seconds, dtype: float64"
      ]
     },
     "execution_count": 151,
     "metadata": {},
     "output_type": "execute_result"
    }
   ],
   "source": [
    "rides.resample('M', on = 'Start date')['Duration seconds'].mean()"
   ]
  },
  {
   "cell_type": "code",
   "execution_count": 152,
   "metadata": {},
   "outputs": [
    {
     "name": "stdout",
     "output_type": "stream",
     "text": [
      "Start date  Member type\n",
      "2017-10-31  Member         0.768519\n",
      "            Casual         0.231481\n",
      "2017-11-30  Member         0.825243\n",
      "            Casual         0.174757\n",
      "2017-12-31  Member         0.860759\n",
      "            Casual         0.139241\n",
      "Name: Member type, dtype: float64\n"
     ]
    }
   ],
   "source": [
    "monthly_rides = rides.resample('M', on = 'Start date')['Member type']\n",
    "print(monthly_rides.value_counts() / monthly_rides.size())"
   ]
  },
  {
   "cell_type": "code",
   "execution_count": 161,
   "metadata": {},
   "outputs": [
    {
     "data": {
      "text/plain": [
       "0   2017-10-01 15:23:25-04:00\n",
       "1   2017-10-01 15:42:57-04:00\n",
       "2   2017-10-02 06:37:10-04:00\n",
       "Name: Start date, dtype: datetime64[ns, America/New_York]"
      ]
     },
     "execution_count": 161,
     "metadata": {},
     "output_type": "execute_result"
    }
   ],
   "source": [
    "rides['Start date'].head(3).dt.tz_localize('America/New_York')"
   ]
  },
  {
   "cell_type": "code",
   "execution_count": 166,
   "metadata": {},
   "outputs": [
    {
     "name": "stdout",
     "output_type": "stream",
     "text": [
      "2017-10-01 15:23:25-04:00\n",
      "2017-10-01 20:23:25+01:00\n"
     ]
    }
   ],
   "source": [
    "rides = pd.read_csv('capital-onebike.csv', parse_dates = ['Start date', 'End date'])\n",
    "rides['Start date'] = rides['Start date'].dt.tz_localize('America/New_York',ambiguous='NaT')\n",
    "print(rides['Start date'].iloc[0])\n",
    "rides['Start date'] = rides['Start date'].dt.tz_convert('Europe/London')\n",
    "print(rides['Start date'].iloc[0])"
   ]
  }
 ],
 "metadata": {
  "kernelspec": {
   "display_name": "Python 3",
   "language": "python",
   "name": "python3"
  },
  "language_info": {
   "codemirror_mode": {
    "name": "ipython",
    "version": 3
   },
   "file_extension": ".py",
   "mimetype": "text/x-python",
   "name": "python",
   "nbconvert_exporter": "python",
   "pygments_lexer": "ipython3",
   "version": "3.7.6"
  }
 },
 "nbformat": 4,
 "nbformat_minor": 4
}
